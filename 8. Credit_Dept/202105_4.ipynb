{
 "cells": [
  {
   "cell_type": "code",
   "execution_count": 1,
   "metadata": {},
   "outputs": [],
   "source": [
    "import warnings\n",
    "warnings.filterwarnings('ignore')\n",
    "import glob\n",
    "import pandas as pd\n",
    "import numpy as np\n",
    "from lightgbm import LGBMClassifier\n",
    "from sklearn.model_selection import StratifiedKFold\n",
    "from sklearn.preprocessing import OneHotEncoder\n",
    "import random\n",
    "from xgboost import XGBClassifier\n",
    "from sklearn.ensemble import RandomForestClassifier\n",
    "from sklearn.svm import SVC\n",
    "from sklearn.discriminant_analysis import LinearDiscriminantAnalysis\n",
    "from catboost import CatBoostClassifier"
   ]
  },
  {
   "cell_type": "code",
   "execution_count": 2,
   "metadata": {},
   "outputs": [],
   "source": [
    "train = pd.read_csv('train.csv')\n",
    "train = train.drop(['index'], axis=1)\n",
    "train.fillna('NAN', inplace=True) \n",
    "train['occyp_type'].loc[(train.occyp_type == 'NAN')&(train.DAYS_EMPLOYED > 0)]='Unemployed'\n",
    "\n",
    "train.fillna('NAN', inplace=True) \n",
    "train['occyp_type'].loc[(train.occyp_type == 'NAN')&(train.DAYS_EMPLOYED < 0)]='Missing'"
   ]
  },
  {
   "cell_type": "code",
   "execution_count": 3,
   "metadata": {},
   "outputs": [],
   "source": [
    "test = pd.read_csv('test.csv')\n",
    "test = test.drop(['index'], axis=1)\n",
    "test.fillna('NAN', inplace=True)\n",
    "test['occyp_type'].loc[(test.occyp_type == 'NAN')&(test.DAYS_EMPLOYED > 0)]='Unemployed'\n",
    "test['occyp_type'].loc[(test.occyp_type == 'NAN')&(test.DAYS_EMPLOYED < 0)]='Missing'\n",
    "\n",
    "submit = pd.read_csv('submission.csv')"
   ]
  },
  {
   "cell_type": "code",
   "execution_count": 4,
   "metadata": {},
   "outputs": [],
   "source": [
    "object_col = []\n",
    "for col in train.columns:\n",
    "    if train[col].dtype == 'object':\n",
    "        object_col.append(col)"
   ]
  },
  {
   "cell_type": "code",
   "execution_count": 5,
   "metadata": {},
   "outputs": [],
   "source": [
    "enc = OneHotEncoder()\n",
    "enc.fit(train.loc[:,object_col])\n",
    "\n",
    "\n",
    "train_onehot_df = pd.DataFrame(enc.transform(train.loc[:,object_col]).toarray(), \n",
    "             columns=enc.get_feature_names(object_col))\n",
    "train.drop(object_col, axis=1, inplace=True)\n",
    "train = pd.concat([train, train_onehot_df], axis=1)"
   ]
  },
  {
   "cell_type": "code",
   "execution_count": 6,
   "metadata": {},
   "outputs": [],
   "source": [
    "test_onehot_df = pd.DataFrame(enc.transform(test.loc[:,object_col]).toarray(), \n",
    "             columns=enc.get_feature_names(object_col))\n",
    "test.drop(object_col, axis=1, inplace=True)\n",
    "test = pd.concat([test, test_onehot_df], axis=1)"
   ]
  },
  {
   "cell_type": "code",
   "execution_count": 7,
   "metadata": {},
   "outputs": [],
   "source": [
    "skf = StratifiedKFold(n_splits=5, shuffle=True, random_state=42)\n",
    "folds=[]\n",
    "for train_idx, valid_idx in skf.split(train, train['credit']):\n",
    "    folds.append((train_idx, valid_idx))"
   ]
  },
  {
   "cell_type": "code",
   "execution_count": 8,
   "metadata": {},
   "outputs": [
    {
     "name": "stdout",
     "output_type": "stream",
     "text": [
      "====================================1============================================\n",
      "Training until validation scores don't improve for 30 rounds\n",
      "[100]\ttraining's multi_logloss: 0.652377\tvalid_1's multi_logloss: 0.752522\n",
      "[200]\ttraining's multi_logloss: 0.56559\tvalid_1's multi_logloss: 0.737156\n",
      "[300]\ttraining's multi_logloss: 0.501921\tvalid_1's multi_logloss: 0.731843\n",
      "Early stopping, best iteration is:\n",
      "[348]\ttraining's multi_logloss: 0.475822\tvalid_1's multi_logloss: 0.729304\n",
      "================================================================================\n",
      "\n",
      "\n",
      "====================================2============================================\n",
      "Training until validation scores don't improve for 30 rounds\n",
      "[100]\ttraining's multi_logloss: 0.646476\tvalid_1's multi_logloss: 0.764955\n",
      "[200]\ttraining's multi_logloss: 0.560614\tvalid_1's multi_logloss: 0.751681\n",
      "[300]\ttraining's multi_logloss: 0.497532\tvalid_1's multi_logloss: 0.748007\n",
      "Early stopping, best iteration is:\n",
      "[281]\ttraining's multi_logloss: 0.508566\tvalid_1's multi_logloss: 0.747717\n",
      "================================================================================\n",
      "\n",
      "\n",
      "====================================3============================================\n",
      "Training until validation scores don't improve for 30 rounds\n",
      "[100]\ttraining's multi_logloss: 0.652042\tvalid_1's multi_logloss: 0.758665\n",
      "[200]\ttraining's multi_logloss: 0.560771\tvalid_1's multi_logloss: 0.743359\n",
      "Early stopping, best iteration is:\n",
      "[246]\ttraining's multi_logloss: 0.529839\tvalid_1's multi_logloss: 0.74126\n",
      "================================================================================\n",
      "\n",
      "\n",
      "====================================4============================================\n",
      "Training until validation scores don't improve for 30 rounds\n",
      "[100]\ttraining's multi_logloss: 0.648049\tvalid_1's multi_logloss: 0.755495\n",
      "[200]\ttraining's multi_logloss: 0.560137\tvalid_1's multi_logloss: 0.739883\n",
      "[300]\ttraining's multi_logloss: 0.497795\tvalid_1's multi_logloss: 0.734204\n",
      "Early stopping, best iteration is:\n",
      "[309]\ttraining's multi_logloss: 0.493086\tvalid_1's multi_logloss: 0.733839\n",
      "================================================================================\n",
      "\n",
      "\n",
      "====================================5============================================\n",
      "Training until validation scores don't improve for 30 rounds\n",
      "[100]\ttraining's multi_logloss: 0.650986\tvalid_1's multi_logloss: 0.755168\n",
      "[200]\ttraining's multi_logloss: 0.565819\tvalid_1's multi_logloss: 0.740535\n",
      "[300]\ttraining's multi_logloss: 0.502856\tvalid_1's multi_logloss: 0.736778\n",
      "Early stopping, best iteration is:\n",
      "[323]\ttraining's multi_logloss: 0.490989\tvalid_1's multi_logloss: 0.736467\n",
      "================================================================================\n",
      "\n",
      "\n"
     ]
    }
   ],
   "source": [
    "random.seed(42)\n",
    "lgb_models={}\n",
    "for fold in range(5):\n",
    "    print(f'===================================={fold+1}============================================')\n",
    "    train_idx, valid_idx = folds[fold]\n",
    "    X_train, X_valid, y_train, y_valid = train.drop(['credit'],axis=1).iloc[train_idx].values, train.drop(['credit'],axis=1).iloc[valid_idx].values,\\\n",
    "                                         train['credit'][train_idx].values, train['credit'][valid_idx].values \n",
    "    lgb = LGBMClassifier(n_estimators=1000)\n",
    "    lgb.fit(X_train, y_train, \n",
    "            eval_set=[(X_train, y_train), (X_valid, y_valid)], \n",
    "            early_stopping_rounds=30,\n",
    "           verbose=100)\n",
    "    lgb_models[fold]=lgb\n",
    "    print(f'================================================================================\\n\\n')"
   ]
  },
  {
   "cell_type": "code",
   "execution_count": 9,
   "metadata": {},
   "outputs": [
    {
     "name": "stdout",
     "output_type": "stream",
     "text": [
      "====================================1============================================\n",
      "[0]\tvalidation_0-mlogloss:0.97436\tvalidation_1-mlogloss:0.97758\n",
      "[100]\tvalidation_0-mlogloss:0.56747\tvalidation_1-mlogloss:0.73381\n",
      "[200]\tvalidation_0-mlogloss:0.44779\tvalidation_1-mlogloss:0.72234\n",
      "[211]\tvalidation_0-mlogloss:0.43764\tvalidation_1-mlogloss:0.72251\n",
      "================================================================================\n",
      "\n",
      "\n",
      "====================================2============================================\n",
      "[0]\tvalidation_0-mlogloss:0.97304\tvalidation_1-mlogloss:0.97925\n",
      "[100]\tvalidation_0-mlogloss:0.56072\tvalidation_1-mlogloss:0.74882\n",
      "[200]\tvalidation_0-mlogloss:0.44335\tvalidation_1-mlogloss:0.74027\n",
      "[234]\tvalidation_0-mlogloss:0.41432\tvalidation_1-mlogloss:0.74270\n",
      "================================================================================\n",
      "\n",
      "\n",
      "====================================3============================================\n",
      "[0]\tvalidation_0-mlogloss:0.97442\tvalidation_1-mlogloss:0.97858\n",
      "[100]\tvalidation_0-mlogloss:0.56273\tvalidation_1-mlogloss:0.74339\n",
      "[200]\tvalidation_0-mlogloss:0.44721\tvalidation_1-mlogloss:0.73763\n",
      "[204]\tvalidation_0-mlogloss:0.44292\tvalidation_1-mlogloss:0.73735\n",
      "================================================================================\n",
      "\n",
      "\n",
      "====================================4============================================\n",
      "[0]\tvalidation_0-mlogloss:0.97382\tvalidation_1-mlogloss:0.97803\n",
      "[100]\tvalidation_0-mlogloss:0.56483\tvalidation_1-mlogloss:0.73918\n",
      "[200]\tvalidation_0-mlogloss:0.44943\tvalidation_1-mlogloss:0.73279\n",
      "[219]\tvalidation_0-mlogloss:0.43177\tvalidation_1-mlogloss:0.73394\n",
      "================================================================================\n",
      "\n",
      "\n",
      "====================================5============================================\n",
      "[0]\tvalidation_0-mlogloss:0.97453\tvalidation_1-mlogloss:0.97726\n",
      "[100]\tvalidation_0-mlogloss:0.56257\tvalidation_1-mlogloss:0.73905\n",
      "[181]\tvalidation_0-mlogloss:0.46090\tvalidation_1-mlogloss:0.73424\n",
      "================================================================================\n",
      "\n",
      "\n"
     ]
    }
   ],
   "source": [
    "xgb_models={}\n",
    "for fold in range(5):\n",
    "    print(f'===================================={fold+1}============================================')\n",
    "    train_idx, valid_idx = folds[fold]\n",
    "    X_train, X_valid, y_train, y_valid = train.drop(['credit'],axis=1).iloc[train_idx].values, train.drop(['credit'],axis=1).iloc[valid_idx].values,\\\n",
    "                                         train['credit'][train_idx].values, train['credit'][valid_idx].values\n",
    "    params={\n",
    "    'objective':'multi:softprob',\n",
    "    'random_state':71,\n",
    "    'n_estimators':1000\n",
    "    }\n",
    "    model = XGBClassifier(**params)\n",
    "    model.fit(X_train, y_train, eval_set=[(X_train, y_train), (X_valid, y_valid)], eval_metric = 'mlogloss',early_stopping_rounds=30, verbose=100)\n",
    "    xgb_models[fold]=model\n",
    "    print(f'================================================================================\\n\\n')"
   ]
  },
  {
   "cell_type": "code",
   "execution_count": 10,
   "metadata": {},
   "outputs": [
    {
     "name": "stdout",
     "output_type": "stream",
     "text": [
      "====================================1============================================\n"
     ]
    },
    {
     "name": "stderr",
     "output_type": "stream",
     "text": [
      "[Parallel(n_jobs=-1)]: Using backend ThreadingBackend with 8 concurrent workers.\n",
      "[Parallel(n_jobs=-1)]: Done  34 tasks      | elapsed:    0.2s\n",
      "[Parallel(n_jobs=-1)]: Done 184 tasks      | elapsed:    1.2s\n",
      "[Parallel(n_jobs=-1)]: Done 434 tasks      | elapsed:    2.9s\n",
      "[Parallel(n_jobs=-1)]: Done 784 tasks      | elapsed:    5.3s\n",
      "[Parallel(n_jobs=-1)]: Done 1000 out of 1000 | elapsed:    6.9s finished\n"
     ]
    },
    {
     "name": "stdout",
     "output_type": "stream",
     "text": [
      "================================================================================\n",
      "\n",
      "\n",
      "====================================2============================================\n"
     ]
    },
    {
     "name": "stderr",
     "output_type": "stream",
     "text": [
      "[Parallel(n_jobs=-1)]: Using backend ThreadingBackend with 8 concurrent workers.\n",
      "[Parallel(n_jobs=-1)]: Done  34 tasks      | elapsed:    0.2s\n",
      "[Parallel(n_jobs=-1)]: Done 184 tasks      | elapsed:    1.3s\n",
      "[Parallel(n_jobs=-1)]: Done 434 tasks      | elapsed:    3.2s\n",
      "[Parallel(n_jobs=-1)]: Done 784 tasks      | elapsed:    6.2s\n",
      "[Parallel(n_jobs=-1)]: Done 1000 out of 1000 | elapsed:    8.3s finished\n"
     ]
    },
    {
     "name": "stdout",
     "output_type": "stream",
     "text": [
      "================================================================================\n",
      "\n",
      "\n",
      "====================================3============================================\n"
     ]
    },
    {
     "name": "stderr",
     "output_type": "stream",
     "text": [
      "[Parallel(n_jobs=-1)]: Using backend ThreadingBackend with 8 concurrent workers.\n",
      "[Parallel(n_jobs=-1)]: Done  34 tasks      | elapsed:    0.2s\n",
      "[Parallel(n_jobs=-1)]: Done 184 tasks      | elapsed:    1.5s\n",
      "[Parallel(n_jobs=-1)]: Done 434 tasks      | elapsed:    4.0s\n",
      "[Parallel(n_jobs=-1)]: Done 784 tasks      | elapsed:    7.7s\n",
      "[Parallel(n_jobs=-1)]: Done 1000 out of 1000 | elapsed:   10.0s finished\n"
     ]
    },
    {
     "name": "stdout",
     "output_type": "stream",
     "text": [
      "================================================================================\n",
      "\n",
      "\n",
      "====================================4============================================\n"
     ]
    },
    {
     "name": "stderr",
     "output_type": "stream",
     "text": [
      "[Parallel(n_jobs=-1)]: Using backend ThreadingBackend with 8 concurrent workers.\n",
      "[Parallel(n_jobs=-1)]: Done  34 tasks      | elapsed:    0.3s\n",
      "[Parallel(n_jobs=-1)]: Done 184 tasks      | elapsed:    1.8s\n",
      "[Parallel(n_jobs=-1)]: Done 434 tasks      | elapsed:    4.5s\n",
      "[Parallel(n_jobs=-1)]: Done 784 tasks      | elapsed:    8.8s\n",
      "[Parallel(n_jobs=-1)]: Done 1000 out of 1000 | elapsed:   11.7s finished\n"
     ]
    },
    {
     "name": "stdout",
     "output_type": "stream",
     "text": [
      "================================================================================\n",
      "\n",
      "\n",
      "====================================5============================================\n"
     ]
    },
    {
     "name": "stderr",
     "output_type": "stream",
     "text": [
      "[Parallel(n_jobs=-1)]: Using backend ThreadingBackend with 8 concurrent workers.\n",
      "[Parallel(n_jobs=-1)]: Done  34 tasks      | elapsed:    0.4s\n",
      "[Parallel(n_jobs=-1)]: Done 184 tasks      | elapsed:    2.1s\n",
      "[Parallel(n_jobs=-1)]: Done 434 tasks      | elapsed:    5.5s\n",
      "[Parallel(n_jobs=-1)]: Done 784 tasks      | elapsed:   10.5s\n",
      "[Parallel(n_jobs=-1)]: Done 1000 out of 1000 | elapsed:   13.6s finished\n"
     ]
    },
    {
     "name": "stdout",
     "output_type": "stream",
     "text": [
      "================================================================================\n",
      "\n",
      "\n"
     ]
    }
   ],
   "source": [
    "rf_models={}\n",
    "for fold in range(5):\n",
    "    print(f'===================================={fold+1}============================================')\n",
    "    train_idx, valid_idx = folds[fold]\n",
    "    X_train, X_valid, y_train, y_valid = train.drop(['credit'],axis=1).iloc[train_idx].values, train.drop(['credit'],axis=1).iloc[valid_idx].values,\\\n",
    "                                         train['credit'][train_idx].values, train['credit'][valid_idx].values\n",
    "    params={'n_estimators':1000,'random_state':71,'criterion':'gini','verbose':1,'class_weight':'balanced','n_jobs':-1,'oob_score':True}\n",
    "    model=RandomForestClassifier(**params)\n",
    "    model.fit(X_train, y_train)\n",
    "    rf_models[fold]=model\n",
    "    print(f'================================================================================\\n\\n')"
   ]
  },
  {
   "cell_type": "code",
   "execution_count": 11,
   "metadata": {},
   "outputs": [
    {
     "name": "stdout",
     "output_type": "stream",
     "text": [
      "====================================1============================================\n"
     ]
    },
    {
     "name": "stderr",
     "output_type": "stream",
     "text": [
      "[Parallel(n_jobs=-1)]: Using backend ThreadingBackend with 8 concurrent workers.\n",
      "[Parallel(n_jobs=-1)]: Done  34 tasks      | elapsed:    0.4s\n",
      "[Parallel(n_jobs=-1)]: Done 184 tasks      | elapsed:    2.2s\n",
      "[Parallel(n_jobs=-1)]: Done 434 tasks      | elapsed:    5.3s\n",
      "[Parallel(n_jobs=-1)]: Done 784 tasks      | elapsed:    9.9s\n",
      "[Parallel(n_jobs=-1)]: Done 1000 out of 1000 | elapsed:   13.2s finished\n"
     ]
    },
    {
     "name": "stdout",
     "output_type": "stream",
     "text": [
      "================================================================================\n",
      "\n",
      "\n",
      "====================================2============================================\n"
     ]
    },
    {
     "name": "stderr",
     "output_type": "stream",
     "text": [
      "[Parallel(n_jobs=-1)]: Using backend ThreadingBackend with 8 concurrent workers.\n",
      "[Parallel(n_jobs=-1)]: Done  34 tasks      | elapsed:    0.4s\n",
      "[Parallel(n_jobs=-1)]: Done 184 tasks      | elapsed:    2.2s\n",
      "[Parallel(n_jobs=-1)]: Done 434 tasks      | elapsed:    5.4s\n",
      "[Parallel(n_jobs=-1)]: Done 784 tasks      | elapsed:    9.8s\n",
      "[Parallel(n_jobs=-1)]: Done 1000 out of 1000 | elapsed:   13.2s finished\n"
     ]
    },
    {
     "name": "stdout",
     "output_type": "stream",
     "text": [
      "================================================================================\n",
      "\n",
      "\n",
      "====================================3============================================\n"
     ]
    },
    {
     "name": "stderr",
     "output_type": "stream",
     "text": [
      "[Parallel(n_jobs=-1)]: Using backend ThreadingBackend with 8 concurrent workers.\n",
      "[Parallel(n_jobs=-1)]: Done  34 tasks      | elapsed:    0.4s\n",
      "[Parallel(n_jobs=-1)]: Done 184 tasks      | elapsed:    2.2s\n",
      "[Parallel(n_jobs=-1)]: Done 434 tasks      | elapsed:    5.3s\n",
      "[Parallel(n_jobs=-1)]: Done 784 tasks      | elapsed:    9.6s\n",
      "[Parallel(n_jobs=-1)]: Done 1000 out of 1000 | elapsed:   12.5s finished\n"
     ]
    },
    {
     "name": "stdout",
     "output_type": "stream",
     "text": [
      "================================================================================\n",
      "\n",
      "\n",
      "====================================4============================================\n"
     ]
    },
    {
     "name": "stderr",
     "output_type": "stream",
     "text": [
      "[Parallel(n_jobs=-1)]: Using backend ThreadingBackend with 8 concurrent workers.\n",
      "[Parallel(n_jobs=-1)]: Done  34 tasks      | elapsed:    0.4s\n",
      "[Parallel(n_jobs=-1)]: Done 184 tasks      | elapsed:    2.1s\n",
      "[Parallel(n_jobs=-1)]: Done 434 tasks      | elapsed:    5.2s\n",
      "[Parallel(n_jobs=-1)]: Done 784 tasks      | elapsed:    9.6s\n",
      "[Parallel(n_jobs=-1)]: Done 1000 out of 1000 | elapsed:   12.3s finished\n"
     ]
    },
    {
     "name": "stdout",
     "output_type": "stream",
     "text": [
      "================================================================================\n",
      "\n",
      "\n",
      "====================================5============================================\n"
     ]
    },
    {
     "name": "stderr",
     "output_type": "stream",
     "text": [
      "[Parallel(n_jobs=-1)]: Using backend ThreadingBackend with 8 concurrent workers.\n",
      "[Parallel(n_jobs=-1)]: Done  34 tasks      | elapsed:    0.5s\n",
      "[Parallel(n_jobs=-1)]: Done 184 tasks      | elapsed:    2.9s\n",
      "[Parallel(n_jobs=-1)]: Done 434 tasks      | elapsed:    7.5s\n",
      "[Parallel(n_jobs=-1)]: Done 784 tasks      | elapsed:   13.5s\n",
      "[Parallel(n_jobs=-1)]: Done 1000 out of 1000 | elapsed:   16.4s finished\n"
     ]
    },
    {
     "name": "stdout",
     "output_type": "stream",
     "text": [
      "================================================================================\n",
      "\n",
      "\n"
     ]
    }
   ],
   "source": [
    "svc_models={}\n",
    "for fold in range(5):\n",
    "    print(f'===================================={fold+1}============================================')\n",
    "    train_idx, valid_idx = folds[fold]\n",
    "    X_train, X_valid, y_train, y_valid = train.drop(['credit'],axis=1).iloc[train_idx].values, train.drop(['credit'],axis=1).iloc[valid_idx].values,\\\n",
    "                                         train['credit'][train_idx].values, train['credit'][valid_idx].values\n",
    "    params={'gamma':'auto','probability':True,'random_state':71,'class_weight':'balanced','kernel':'poly','shrinking':True,'verbose':True}\n",
    "    svc_model=SVC(**params)\n",
    "    model.fit(X_train, y_train)\n",
    "    svc_models[fold]=model\n",
    "    print(f'================================================================================\\n\\n')"
   ]
  },
  {
   "cell_type": "code",
   "execution_count": 12,
   "metadata": {},
   "outputs": [
    {
     "name": "stdout",
     "output_type": "stream",
     "text": [
      "====================================1============================================\n",
      "================================================================================\n",
      "\n",
      "\n",
      "====================================2============================================\n",
      "================================================================================\n",
      "\n",
      "\n",
      "====================================3============================================\n",
      "================================================================================\n",
      "\n",
      "\n",
      "====================================4============================================\n",
      "================================================================================\n",
      "\n",
      "\n",
      "====================================5============================================\n",
      "================================================================================\n",
      "\n",
      "\n"
     ]
    }
   ],
   "source": [
    "lda_models={}\n",
    "for fold in range(5):\n",
    "    print(f'===================================={fold+1}============================================')\n",
    "    train_idx, valid_idx = folds[fold]\n",
    "    X_train, X_valid, y_train, y_valid = train.drop(['credit'],axis=1).iloc[train_idx].values, train.drop(['credit'],axis=1).iloc[valid_idx].values,\\\n",
    "                                         train['credit'][train_idx].values, train['credit'][valid_idx].values\n",
    "    \n",
    "    model=LinearDiscriminantAnalysis()\n",
    "    model.fit(X_train, y_train)\n",
    "    lda_models[fold]= model\n",
    "    print(f'================================================================================\\n\\n')"
   ]
  },
  {
   "cell_type": "code",
   "execution_count": 18,
   "metadata": {},
   "outputs": [
    {
     "name": "stdout",
     "output_type": "stream",
     "text": [
      "====================================1============================================\n",
      "Learning rate set to 0.092455\n",
      "0:\tlearn: 1.0464708\ttotal: 180ms\tremaining: 3m\n",
      "100:\tlearn: 0.7747495\ttotal: 1.27s\tremaining: 11.3s\n",
      "200:\tlearn: 0.7426507\ttotal: 2.27s\tremaining: 9.01s\n",
      "300:\tlearn: 0.7149000\ttotal: 3.29s\tremaining: 7.64s\n",
      "400:\tlearn: 0.6922723\ttotal: 4.31s\tremaining: 6.44s\n",
      "500:\tlearn: 0.6716642\ttotal: 5.3s\tremaining: 5.28s\n",
      "600:\tlearn: 0.6544617\ttotal: 6.25s\tremaining: 4.15s\n",
      "700:\tlearn: 0.6378184\ttotal: 7.2s\tremaining: 3.07s\n",
      "800:\tlearn: 0.6220550\ttotal: 8.15s\tremaining: 2.02s\n",
      "900:\tlearn: 0.6075985\ttotal: 9.12s\tremaining: 1s\n",
      "999:\tlearn: 0.5945231\ttotal: 10.1s\tremaining: 0us\n",
      "================================================================================\n",
      "\n",
      "\n",
      "====================================2============================================\n",
      "Learning rate set to 0.092455\n",
      "0:\tlearn: 1.0458229\ttotal: 11ms\tremaining: 11s\n",
      "100:\tlearn: 0.7711958\ttotal: 1.03s\tremaining: 9.15s\n",
      "200:\tlearn: 0.7389139\ttotal: 1.99s\tremaining: 7.9s\n",
      "300:\tlearn: 0.7105477\ttotal: 2.94s\tremaining: 6.84s\n",
      "400:\tlearn: 0.6873722\ttotal: 3.89s\tremaining: 5.81s\n",
      "500:\tlearn: 0.6659828\ttotal: 4.87s\tremaining: 4.85s\n",
      "600:\tlearn: 0.6474989\ttotal: 5.82s\tremaining: 3.86s\n",
      "700:\tlearn: 0.6324430\ttotal: 6.78s\tremaining: 2.89s\n",
      "800:\tlearn: 0.6179450\ttotal: 7.75s\tremaining: 1.93s\n",
      "900:\tlearn: 0.6044835\ttotal: 8.72s\tremaining: 959ms\n",
      "999:\tlearn: 0.5911120\ttotal: 9.71s\tremaining: 0us\n",
      "================================================================================\n",
      "\n",
      "\n",
      "====================================3============================================\n",
      "Learning rate set to 0.092455\n",
      "0:\tlearn: 1.0468249\ttotal: 25.1ms\tremaining: 25.1s\n",
      "100:\tlearn: 0.7752341\ttotal: 1.02s\tremaining: 9.09s\n",
      "200:\tlearn: 0.7403294\ttotal: 2s\tremaining: 7.94s\n",
      "300:\tlearn: 0.7146854\ttotal: 2.96s\tremaining: 6.87s\n",
      "400:\tlearn: 0.6906890\ttotal: 3.94s\tremaining: 5.89s\n",
      "500:\tlearn: 0.6691371\ttotal: 5.13s\tremaining: 5.1s\n",
      "600:\tlearn: 0.6505920\ttotal: 6.18s\tremaining: 4.1s\n",
      "700:\tlearn: 0.6345706\ttotal: 7.24s\tremaining: 3.09s\n",
      "800:\tlearn: 0.6194252\ttotal: 8.22s\tremaining: 2.04s\n",
      "900:\tlearn: 0.6058357\ttotal: 9.2s\tremaining: 1.01s\n",
      "999:\tlearn: 0.5931371\ttotal: 10.2s\tremaining: 0us\n",
      "================================================================================\n",
      "\n",
      "\n",
      "====================================4============================================\n",
      "Learning rate set to 0.092455\n",
      "0:\tlearn: 1.0468202\ttotal: 10.9ms\tremaining: 10.9s\n",
      "100:\tlearn: 0.7743025\ttotal: 1s\tremaining: 8.93s\n",
      "200:\tlearn: 0.7407069\ttotal: 1.99s\tremaining: 7.91s\n",
      "300:\tlearn: 0.7132779\ttotal: 2.98s\tremaining: 6.91s\n",
      "400:\tlearn: 0.6898832\ttotal: 3.97s\tremaining: 5.92s\n",
      "500:\tlearn: 0.6697975\ttotal: 4.96s\tremaining: 4.94s\n",
      "600:\tlearn: 0.6519080\ttotal: 5.95s\tremaining: 3.95s\n",
      "700:\tlearn: 0.6350828\ttotal: 6.93s\tremaining: 2.96s\n",
      "800:\tlearn: 0.6201876\ttotal: 7.92s\tremaining: 1.97s\n",
      "900:\tlearn: 0.6056135\ttotal: 8.93s\tremaining: 981ms\n",
      "999:\tlearn: 0.5929934\ttotal: 9.92s\tremaining: 0us\n",
      "================================================================================\n",
      "\n",
      "\n",
      "====================================5============================================\n",
      "Learning rate set to 0.092455\n",
      "0:\tlearn: 1.0470031\ttotal: 12.4ms\tremaining: 12.4s\n",
      "100:\tlearn: 0.7789169\ttotal: 1s\tremaining: 8.91s\n",
      "200:\tlearn: 0.7444237\ttotal: 2.01s\tremaining: 8s\n",
      "300:\tlearn: 0.7156180\ttotal: 3.1s\tremaining: 7.19s\n",
      "400:\tlearn: 0.6912437\ttotal: 4.14s\tremaining: 6.18s\n",
      "500:\tlearn: 0.6704845\ttotal: 5.18s\tremaining: 5.16s\n",
      "600:\tlearn: 0.6517292\ttotal: 6.17s\tremaining: 4.1s\n",
      "700:\tlearn: 0.6354840\ttotal: 7.18s\tremaining: 3.06s\n",
      "800:\tlearn: 0.6189886\ttotal: 8.18s\tremaining: 2.03s\n",
      "900:\tlearn: 0.6044688\ttotal: 9.2s\tremaining: 1.01s\n",
      "999:\tlearn: 0.5917079\ttotal: 10.2s\tremaining: 0us\n",
      "================================================================================\n",
      "\n",
      "\n"
     ]
    }
   ],
   "source": [
    "cb_models={}\n",
    "for fold in range(5):\n",
    "    print(f'===================================={fold+1}============================================')\n",
    "    train_idx, valid_idx = folds[fold]\n",
    "    X_train, X_valid, y_train, y_valid = train.drop(['credit'],axis=1).iloc[train_idx].values, train.drop(['credit'],axis=1).iloc[valid_idx].values,\\\n",
    "                                         train['credit'][train_idx].values, train['credit'][valid_idx].values\n",
    "    \n",
    "    model=CatBoostClassifier(early_stopping_rounds=30, verbose=100)\n",
    "    model.fit(X_train, y_train)\n",
    "    cb_models[fold]= model\n",
    "    print(f'================================================================================\\n\\n')"
   ]
  },
  {
   "cell_type": "code",
   "execution_count": 26,
   "metadata": {},
   "outputs": [
    {
     "name": "stderr",
     "output_type": "stream",
     "text": [
      "[Parallel(n_jobs=8)]: Using backend ThreadingBackend with 8 concurrent workers.\n",
      "[Parallel(n_jobs=8)]: Done  34 tasks      | elapsed:    0.0s\n",
      "[Parallel(n_jobs=8)]: Done 184 tasks      | elapsed:    0.3s\n",
      "[Parallel(n_jobs=8)]: Done 434 tasks      | elapsed:    0.8s\n",
      "[Parallel(n_jobs=8)]: Done 784 tasks      | elapsed:    1.9s\n",
      "[Parallel(n_jobs=8)]: Done 1000 out of 1000 | elapsed:    2.5s finished\n",
      "[Parallel(n_jobs=8)]: Using backend ThreadingBackend with 8 concurrent workers.\n",
      "[Parallel(n_jobs=8)]: Done  34 tasks      | elapsed:    0.1s\n",
      "[Parallel(n_jobs=8)]: Done 184 tasks      | elapsed:    0.5s\n",
      "[Parallel(n_jobs=8)]: Done 434 tasks      | elapsed:    1.1s\n",
      "[Parallel(n_jobs=8)]: Done 784 tasks      | elapsed:    2.3s\n",
      "[Parallel(n_jobs=8)]: Done 1000 out of 1000 | elapsed:    2.9s finished\n",
      "[Parallel(n_jobs=8)]: Using backend ThreadingBackend with 8 concurrent workers.\n",
      "[Parallel(n_jobs=8)]: Done  34 tasks      | elapsed:    0.0s\n",
      "[Parallel(n_jobs=8)]: Done 184 tasks      | elapsed:    0.3s\n",
      "[Parallel(n_jobs=8)]: Done 434 tasks      | elapsed:    0.8s\n",
      "[Parallel(n_jobs=8)]: Done 784 tasks      | elapsed:    1.7s\n",
      "[Parallel(n_jobs=8)]: Done 1000 out of 1000 | elapsed:    2.2s finished\n",
      "[Parallel(n_jobs=8)]: Using backend ThreadingBackend with 8 concurrent workers.\n",
      "[Parallel(n_jobs=8)]: Done  34 tasks      | elapsed:    0.0s\n",
      "[Parallel(n_jobs=8)]: Done 184 tasks      | elapsed:    0.4s\n",
      "[Parallel(n_jobs=8)]: Done 434 tasks      | elapsed:    1.3s\n",
      "[Parallel(n_jobs=8)]: Done 784 tasks      | elapsed:    2.4s\n",
      "[Parallel(n_jobs=8)]: Done 1000 out of 1000 | elapsed:    2.9s finished\n",
      "[Parallel(n_jobs=8)]: Using backend ThreadingBackend with 8 concurrent workers.\n",
      "[Parallel(n_jobs=8)]: Done  34 tasks      | elapsed:    0.0s\n",
      "[Parallel(n_jobs=8)]: Done 184 tasks      | elapsed:    0.5s\n",
      "[Parallel(n_jobs=8)]: Done 434 tasks      | elapsed:    1.2s\n",
      "[Parallel(n_jobs=8)]: Done 784 tasks      | elapsed:    2.1s\n",
      "[Parallel(n_jobs=8)]: Done 1000 out of 1000 | elapsed:    2.8s finished\n"
     ]
    }
   ],
   "source": [
    "submit.iloc[:,1:]=0\n",
    "for fold in range(5):\n",
    "    submit.iloc[:,1:] += (lgb_models[fold].predict_proba(test)/20)\n",
    "    submit.iloc[:,1:] += (xgb_models[fold].predict_proba(test)/20)\n",
    "    submit.iloc[:,1:] += (rf_models[fold].predict_proba(test)/20)\n",
    "    #submit.iloc[:,1:] += (svc_models[fold].predict_proba(test)/30)\n",
    "    #submit.iloc[:,1:] += (lda_models[fold].predict_proba(test)/30)\n",
    "    submit.iloc[:,1:] += (cb_models[fold].predict_proba(test)/20)"
   ]
  },
  {
   "cell_type": "code",
   "execution_count": 27,
   "metadata": {},
   "outputs": [
    {
     "data": {
      "text/html": [
       "<div>\n",
       "<style scoped>\n",
       "    .dataframe tbody tr th:only-of-type {\n",
       "        vertical-align: middle;\n",
       "    }\n",
       "\n",
       "    .dataframe tbody tr th {\n",
       "        vertical-align: top;\n",
       "    }\n",
       "\n",
       "    .dataframe thead th {\n",
       "        text-align: right;\n",
       "    }\n",
       "</style>\n",
       "<table border=\"1\" class=\"dataframe\">\n",
       "  <thead>\n",
       "    <tr style=\"text-align: right;\">\n",
       "      <th></th>\n",
       "      <th>index</th>\n",
       "      <th>0</th>\n",
       "      <th>1</th>\n",
       "      <th>2</th>\n",
       "    </tr>\n",
       "  </thead>\n",
       "  <tbody>\n",
       "    <tr>\n",
       "      <th>0</th>\n",
       "      <td>26457</td>\n",
       "      <td>0.053063</td>\n",
       "      <td>0.135377</td>\n",
       "      <td>0.811559</td>\n",
       "    </tr>\n",
       "    <tr>\n",
       "      <th>1</th>\n",
       "      <td>26458</td>\n",
       "      <td>0.259611</td>\n",
       "      <td>0.175174</td>\n",
       "      <td>0.565216</td>\n",
       "    </tr>\n",
       "    <tr>\n",
       "      <th>2</th>\n",
       "      <td>26459</td>\n",
       "      <td>0.061001</td>\n",
       "      <td>0.112262</td>\n",
       "      <td>0.826737</td>\n",
       "    </tr>\n",
       "    <tr>\n",
       "      <th>3</th>\n",
       "      <td>26460</td>\n",
       "      <td>0.110551</td>\n",
       "      <td>0.105501</td>\n",
       "      <td>0.783948</td>\n",
       "    </tr>\n",
       "    <tr>\n",
       "      <th>4</th>\n",
       "      <td>26461</td>\n",
       "      <td>0.082543</td>\n",
       "      <td>0.173000</td>\n",
       "      <td>0.744456</td>\n",
       "    </tr>\n",
       "    <tr>\n",
       "      <th>...</th>\n",
       "      <td>...</td>\n",
       "      <td>...</td>\n",
       "      <td>...</td>\n",
       "      <td>...</td>\n",
       "    </tr>\n",
       "    <tr>\n",
       "      <th>9995</th>\n",
       "      <td>36452</td>\n",
       "      <td>0.147239</td>\n",
       "      <td>0.252861</td>\n",
       "      <td>0.599900</td>\n",
       "    </tr>\n",
       "    <tr>\n",
       "      <th>9996</th>\n",
       "      <td>36453</td>\n",
       "      <td>0.189252</td>\n",
       "      <td>0.347640</td>\n",
       "      <td>0.463108</td>\n",
       "    </tr>\n",
       "    <tr>\n",
       "      <th>9997</th>\n",
       "      <td>36454</td>\n",
       "      <td>0.017484</td>\n",
       "      <td>0.069830</td>\n",
       "      <td>0.912685</td>\n",
       "    </tr>\n",
       "    <tr>\n",
       "      <th>9998</th>\n",
       "      <td>36455</td>\n",
       "      <td>0.171256</td>\n",
       "      <td>0.229883</td>\n",
       "      <td>0.598861</td>\n",
       "    </tr>\n",
       "    <tr>\n",
       "      <th>9999</th>\n",
       "      <td>36456</td>\n",
       "      <td>0.084318</td>\n",
       "      <td>0.236645</td>\n",
       "      <td>0.679037</td>\n",
       "    </tr>\n",
       "  </tbody>\n",
       "</table>\n",
       "<p>10000 rows × 4 columns</p>\n",
       "</div>"
      ],
      "text/plain": [
       "      index         0         1         2\n",
       "0     26457  0.053063  0.135377  0.811559\n",
       "1     26458  0.259611  0.175174  0.565216\n",
       "2     26459  0.061001  0.112262  0.826737\n",
       "3     26460  0.110551  0.105501  0.783948\n",
       "4     26461  0.082543  0.173000  0.744456\n",
       "...     ...       ...       ...       ...\n",
       "9995  36452  0.147239  0.252861  0.599900\n",
       "9996  36453  0.189252  0.347640  0.463108\n",
       "9997  36454  0.017484  0.069830  0.912685\n",
       "9998  36455  0.171256  0.229883  0.598861\n",
       "9999  36456  0.084318  0.236645  0.679037\n",
       "\n",
       "[10000 rows x 4 columns]"
      ]
     },
     "execution_count": 27,
     "metadata": {},
     "output_type": "execute_result"
    }
   ],
   "source": [
    "submit"
   ]
  },
  {
   "cell_type": "code",
   "execution_count": 29,
   "metadata": {},
   "outputs": [],
   "source": [
    "submit.to_csv('20210519_ensemble2.csv', index=False) #0.7044283413 모델이 중요!"
   ]
  },
  {
   "cell_type": "code",
   "execution_count": null,
   "metadata": {},
   "outputs": [],
   "source": []
  }
 ],
 "metadata": {
  "kernelspec": {
   "display_name": "Python 3",
   "language": "python",
   "name": "python3"
  },
  "language_info": {
   "codemirror_mode": {
    "name": "ipython",
    "version": 3
   },
   "file_extension": ".py",
   "mimetype": "text/x-python",
   "name": "python",
   "nbconvert_exporter": "python",
   "pygments_lexer": "ipython3",
   "version": "3.8.3"
  }
 },
 "nbformat": 4,
 "nbformat_minor": 4
}

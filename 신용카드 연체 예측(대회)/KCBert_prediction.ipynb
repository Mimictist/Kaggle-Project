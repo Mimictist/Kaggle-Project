{
  "nbformat": 4,
  "nbformat_minor": 0,
  "metadata": {
    "kernelspec": {
      "display_name": "Python 3",
      "language": "python",
      "name": "python3"
    },
    "language_info": {
      "codemirror_mode": {
        "name": "ipython",
        "version": 3
      },
      "file_extension": ".py",
      "mimetype": "text/x-python",
      "name": "python",
      "nbconvert_exporter": "python",
      "pygments_lexer": "ipython3",
      "version": "3.8.3"
    },
    "colab": {
      "name": "KCBert_prediction.ipynb",
      "provenance": [],
      "collapsed_sections": []
    },
    "widgets": {
      "application/vnd.jupyter.widget-state+json": {
        "eadc12be5366459195cebc0674b53b17": {
          "model_module": "@jupyter-widgets/controls",
          "model_name": "HBoxModel",
          "state": {
            "_view_name": "HBoxView",
            "_dom_classes": [],
            "_model_name": "HBoxModel",
            "_view_module": "@jupyter-widgets/controls",
            "_model_module_version": "1.5.0",
            "_view_count": null,
            "_view_module_version": "1.5.0",
            "box_style": "",
            "layout": "IPY_MODEL_16667b7bdc804562b19c6dda663fecdd",
            "_model_module": "@jupyter-widgets/controls",
            "children": [
              "IPY_MODEL_a383492594e641b194e69f1197afb132",
              "IPY_MODEL_c5711474944c4de2ba1120e677c2221e"
            ]
          }
        },
        "16667b7bdc804562b19c6dda663fecdd": {
          "model_module": "@jupyter-widgets/base",
          "model_name": "LayoutModel",
          "state": {
            "_view_name": "LayoutView",
            "grid_template_rows": null,
            "right": null,
            "justify_content": null,
            "_view_module": "@jupyter-widgets/base",
            "overflow": null,
            "_model_module_version": "1.2.0",
            "_view_count": null,
            "flex_flow": "row wrap",
            "width": "100%",
            "min_width": null,
            "border": null,
            "align_items": null,
            "bottom": null,
            "_model_module": "@jupyter-widgets/base",
            "top": null,
            "grid_column": null,
            "overflow_y": null,
            "overflow_x": null,
            "grid_auto_flow": null,
            "grid_area": null,
            "grid_template_columns": null,
            "flex": null,
            "_model_name": "LayoutModel",
            "justify_items": null,
            "grid_row": null,
            "max_height": null,
            "align_content": null,
            "visibility": null,
            "align_self": null,
            "height": null,
            "min_height": null,
            "padding": null,
            "grid_auto_rows": null,
            "grid_gap": null,
            "max_width": null,
            "order": null,
            "_view_module_version": "1.2.0",
            "grid_template_areas": null,
            "object_position": null,
            "object_fit": null,
            "grid_auto_columns": null,
            "margin": null,
            "display": "inline-flex",
            "left": null
          }
        },
        "a383492594e641b194e69f1197afb132": {
          "model_module": "@jupyter-widgets/controls",
          "model_name": "FloatProgressModel",
          "state": {
            "_view_name": "ProgressView",
            "style": "IPY_MODEL_fe90925028fe428ca71e3b0c7d78fc23",
            "_dom_classes": [],
            "description": "Epoch 0: 100%",
            "_model_name": "FloatProgressModel",
            "bar_style": "success",
            "max": 32,
            "_view_module": "@jupyter-widgets/controls",
            "_model_module_version": "1.5.0",
            "value": 32,
            "_view_count": null,
            "_view_module_version": "1.5.0",
            "orientation": "horizontal",
            "min": 0,
            "description_tooltip": null,
            "_model_module": "@jupyter-widgets/controls",
            "layout": "IPY_MODEL_f187a9317a004cb39f73e10610ba7693"
          }
        },
        "c5711474944c4de2ba1120e677c2221e": {
          "model_module": "@jupyter-widgets/controls",
          "model_name": "HTMLModel",
          "state": {
            "_view_name": "HTMLView",
            "style": "IPY_MODEL_1c51ff0a53a846979faddd5c21c088ca",
            "_dom_classes": [],
            "description": "",
            "_model_name": "HTMLModel",
            "placeholder": "​",
            "_view_module": "@jupyter-widgets/controls",
            "_model_module_version": "1.5.0",
            "value": " 32/32 [00:19&lt;00:00,  1.64it/s, loss=3.03, v_num=17]",
            "_view_count": null,
            "_view_module_version": "1.5.0",
            "description_tooltip": null,
            "_model_module": "@jupyter-widgets/controls",
            "layout": "IPY_MODEL_45feceb872b044e2bfc6b1dcc311426a"
          }
        },
        "fe90925028fe428ca71e3b0c7d78fc23": {
          "model_module": "@jupyter-widgets/controls",
          "model_name": "ProgressStyleModel",
          "state": {
            "_view_name": "StyleView",
            "_model_name": "ProgressStyleModel",
            "description_width": "initial",
            "_view_module": "@jupyter-widgets/base",
            "_model_module_version": "1.5.0",
            "_view_count": null,
            "_view_module_version": "1.2.0",
            "bar_color": null,
            "_model_module": "@jupyter-widgets/controls"
          }
        },
        "f187a9317a004cb39f73e10610ba7693": {
          "model_module": "@jupyter-widgets/base",
          "model_name": "LayoutModel",
          "state": {
            "_view_name": "LayoutView",
            "grid_template_rows": null,
            "right": null,
            "justify_content": null,
            "_view_module": "@jupyter-widgets/base",
            "overflow": null,
            "_model_module_version": "1.2.0",
            "_view_count": null,
            "flex_flow": null,
            "width": null,
            "min_width": null,
            "border": null,
            "align_items": null,
            "bottom": null,
            "_model_module": "@jupyter-widgets/base",
            "top": null,
            "grid_column": null,
            "overflow_y": null,
            "overflow_x": null,
            "grid_auto_flow": null,
            "grid_area": null,
            "grid_template_columns": null,
            "flex": "2",
            "_model_name": "LayoutModel",
            "justify_items": null,
            "grid_row": null,
            "max_height": null,
            "align_content": null,
            "visibility": null,
            "align_self": null,
            "height": null,
            "min_height": null,
            "padding": null,
            "grid_auto_rows": null,
            "grid_gap": null,
            "max_width": null,
            "order": null,
            "_view_module_version": "1.2.0",
            "grid_template_areas": null,
            "object_position": null,
            "object_fit": null,
            "grid_auto_columns": null,
            "margin": null,
            "display": null,
            "left": null
          }
        },
        "1c51ff0a53a846979faddd5c21c088ca": {
          "model_module": "@jupyter-widgets/controls",
          "model_name": "DescriptionStyleModel",
          "state": {
            "_view_name": "StyleView",
            "_model_name": "DescriptionStyleModel",
            "description_width": "",
            "_view_module": "@jupyter-widgets/base",
            "_model_module_version": "1.5.0",
            "_view_count": null,
            "_view_module_version": "1.2.0",
            "_model_module": "@jupyter-widgets/controls"
          }
        },
        "45feceb872b044e2bfc6b1dcc311426a": {
          "model_module": "@jupyter-widgets/base",
          "model_name": "LayoutModel",
          "state": {
            "_view_name": "LayoutView",
            "grid_template_rows": null,
            "right": null,
            "justify_content": null,
            "_view_module": "@jupyter-widgets/base",
            "overflow": null,
            "_model_module_version": "1.2.0",
            "_view_count": null,
            "flex_flow": null,
            "width": null,
            "min_width": null,
            "border": null,
            "align_items": null,
            "bottom": null,
            "_model_module": "@jupyter-widgets/base",
            "top": null,
            "grid_column": null,
            "overflow_y": null,
            "overflow_x": null,
            "grid_auto_flow": null,
            "grid_area": null,
            "grid_template_columns": null,
            "flex": null,
            "_model_name": "LayoutModel",
            "justify_items": null,
            "grid_row": null,
            "max_height": null,
            "align_content": null,
            "visibility": null,
            "align_self": null,
            "height": null,
            "min_height": null,
            "padding": null,
            "grid_auto_rows": null,
            "grid_gap": null,
            "max_width": null,
            "order": null,
            "_view_module_version": "1.2.0",
            "grid_template_areas": null,
            "object_position": null,
            "object_fit": null,
            "grid_auto_columns": null,
            "margin": null,
            "display": null,
            "left": null
          }
        },
        "4f07aa9679c744ffa74f7f0bbdf329dd": {
          "model_module": "@jupyter-widgets/controls",
          "model_name": "HBoxModel",
          "state": {
            "_view_name": "HBoxView",
            "_dom_classes": [],
            "_model_name": "HBoxModel",
            "_view_module": "@jupyter-widgets/controls",
            "_model_module_version": "1.5.0",
            "_view_count": null,
            "_view_module_version": "1.5.0",
            "box_style": "",
            "layout": "IPY_MODEL_4e6e9a805e9b411089f8a760bc18e70b",
            "_model_module": "@jupyter-widgets/controls",
            "children": [
              "IPY_MODEL_953e849c824d46b5ae3f56a01f1b38de",
              "IPY_MODEL_67439ac469a94151873f7b82f64df0ae"
            ]
          }
        },
        "4e6e9a805e9b411089f8a760bc18e70b": {
          "model_module": "@jupyter-widgets/base",
          "model_name": "LayoutModel",
          "state": {
            "_view_name": "LayoutView",
            "grid_template_rows": null,
            "right": null,
            "justify_content": null,
            "_view_module": "@jupyter-widgets/base",
            "overflow": null,
            "_model_module_version": "1.2.0",
            "_view_count": null,
            "flex_flow": "row wrap",
            "width": "100%",
            "min_width": null,
            "border": null,
            "align_items": null,
            "bottom": null,
            "_model_module": "@jupyter-widgets/base",
            "top": null,
            "grid_column": null,
            "overflow_y": null,
            "overflow_x": null,
            "grid_auto_flow": null,
            "grid_area": null,
            "grid_template_columns": null,
            "flex": null,
            "_model_name": "LayoutModel",
            "justify_items": null,
            "grid_row": null,
            "max_height": null,
            "align_content": null,
            "visibility": null,
            "align_self": null,
            "height": null,
            "min_height": null,
            "padding": null,
            "grid_auto_rows": null,
            "grid_gap": null,
            "max_width": null,
            "order": null,
            "_view_module_version": "1.2.0",
            "grid_template_areas": null,
            "object_position": null,
            "object_fit": null,
            "grid_auto_columns": null,
            "margin": null,
            "display": "inline-flex",
            "left": null
          }
        },
        "953e849c824d46b5ae3f56a01f1b38de": {
          "model_module": "@jupyter-widgets/controls",
          "model_name": "FloatProgressModel",
          "state": {
            "_view_name": "ProgressView",
            "style": "IPY_MODEL_b5dff7bd0aa3438b8c2256375b89b6c3",
            "_dom_classes": [],
            "description": "Validating: 100%",
            "_model_name": "FloatProgressModel",
            "bar_style": "info",
            "max": 7,
            "_view_module": "@jupyter-widgets/controls",
            "_model_module_version": "1.5.0",
            "value": 7,
            "_view_count": null,
            "_view_module_version": "1.5.0",
            "orientation": "horizontal",
            "min": 0,
            "description_tooltip": null,
            "_model_module": "@jupyter-widgets/controls",
            "layout": "IPY_MODEL_d220a7e5c95d477781eddf12788ce25f"
          }
        },
        "67439ac469a94151873f7b82f64df0ae": {
          "model_module": "@jupyter-widgets/controls",
          "model_name": "HTMLModel",
          "state": {
            "_view_name": "HTMLView",
            "style": "IPY_MODEL_3be73d3cf25a4a06a22f0c1d7b1e971e",
            "_dom_classes": [],
            "description": "",
            "_model_name": "HTMLModel",
            "placeholder": "​",
            "_view_module": "@jupyter-widgets/controls",
            "_model_module_version": "1.5.0",
            "value": " 7/7 [00:01&lt;00:00,  8.09it/s]",
            "_view_count": null,
            "_view_module_version": "1.5.0",
            "description_tooltip": null,
            "_model_module": "@jupyter-widgets/controls",
            "layout": "IPY_MODEL_9b6f0b4c3c4c429fa8b075163d4d5304"
          }
        },
        "b5dff7bd0aa3438b8c2256375b89b6c3": {
          "model_module": "@jupyter-widgets/controls",
          "model_name": "ProgressStyleModel",
          "state": {
            "_view_name": "StyleView",
            "_model_name": "ProgressStyleModel",
            "description_width": "initial",
            "_view_module": "@jupyter-widgets/base",
            "_model_module_version": "1.5.0",
            "_view_count": null,
            "_view_module_version": "1.2.0",
            "bar_color": null,
            "_model_module": "@jupyter-widgets/controls"
          }
        },
        "d220a7e5c95d477781eddf12788ce25f": {
          "model_module": "@jupyter-widgets/base",
          "model_name": "LayoutModel",
          "state": {
            "_view_name": "LayoutView",
            "grid_template_rows": null,
            "right": null,
            "justify_content": null,
            "_view_module": "@jupyter-widgets/base",
            "overflow": null,
            "_model_module_version": "1.2.0",
            "_view_count": null,
            "flex_flow": null,
            "width": null,
            "min_width": null,
            "border": null,
            "align_items": null,
            "bottom": null,
            "_model_module": "@jupyter-widgets/base",
            "top": null,
            "grid_column": null,
            "overflow_y": null,
            "overflow_x": null,
            "grid_auto_flow": null,
            "grid_area": null,
            "grid_template_columns": null,
            "flex": "2",
            "_model_name": "LayoutModel",
            "justify_items": null,
            "grid_row": null,
            "max_height": null,
            "align_content": null,
            "visibility": null,
            "align_self": null,
            "height": null,
            "min_height": null,
            "padding": null,
            "grid_auto_rows": null,
            "grid_gap": null,
            "max_width": null,
            "order": null,
            "_view_module_version": "1.2.0",
            "grid_template_areas": null,
            "object_position": null,
            "object_fit": null,
            "grid_auto_columns": null,
            "margin": null,
            "display": null,
            "left": null
          }
        },
        "3be73d3cf25a4a06a22f0c1d7b1e971e": {
          "model_module": "@jupyter-widgets/controls",
          "model_name": "DescriptionStyleModel",
          "state": {
            "_view_name": "StyleView",
            "_model_name": "DescriptionStyleModel",
            "description_width": "",
            "_view_module": "@jupyter-widgets/base",
            "_model_module_version": "1.5.0",
            "_view_count": null,
            "_view_module_version": "1.2.0",
            "_model_module": "@jupyter-widgets/controls"
          }
        },
        "9b6f0b4c3c4c429fa8b075163d4d5304": {
          "model_module": "@jupyter-widgets/base",
          "model_name": "LayoutModel",
          "state": {
            "_view_name": "LayoutView",
            "grid_template_rows": null,
            "right": null,
            "justify_content": null,
            "_view_module": "@jupyter-widgets/base",
            "overflow": null,
            "_model_module_version": "1.2.0",
            "_view_count": null,
            "flex_flow": null,
            "width": null,
            "min_width": null,
            "border": null,
            "align_items": null,
            "bottom": null,
            "_model_module": "@jupyter-widgets/base",
            "top": null,
            "grid_column": null,
            "overflow_y": null,
            "overflow_x": null,
            "grid_auto_flow": null,
            "grid_area": null,
            "grid_template_columns": null,
            "flex": null,
            "_model_name": "LayoutModel",
            "justify_items": null,
            "grid_row": null,
            "max_height": null,
            "align_content": null,
            "visibility": null,
            "align_self": null,
            "height": null,
            "min_height": null,
            "padding": null,
            "grid_auto_rows": null,
            "grid_gap": null,
            "max_width": null,
            "order": null,
            "_view_module_version": "1.2.0",
            "grid_template_areas": null,
            "object_position": null,
            "object_fit": null,
            "grid_auto_columns": null,
            "margin": null,
            "display": null,
            "left": null
          }
        },
        "2954d31c373b4b2e89099c759ff66d56": {
          "model_module": "@jupyter-widgets/controls",
          "model_name": "HBoxModel",
          "state": {
            "_view_name": "HBoxView",
            "_dom_classes": [],
            "_model_name": "HBoxModel",
            "_view_module": "@jupyter-widgets/controls",
            "_model_module_version": "1.5.0",
            "_view_count": null,
            "_view_module_version": "1.5.0",
            "box_style": "",
            "layout": "IPY_MODEL_77bcc9c8286d4a98922cf0092cf1742e",
            "_model_module": "@jupyter-widgets/controls",
            "children": [
              "IPY_MODEL_6e143e2cb50042e9a8a386e9aa5fcdca",
              "IPY_MODEL_cab0bba0e890419692d6dd2119be4c1b"
            ]
          }
        },
        "77bcc9c8286d4a98922cf0092cf1742e": {
          "model_module": "@jupyter-widgets/base",
          "model_name": "LayoutModel",
          "state": {
            "_view_name": "LayoutView",
            "grid_template_rows": null,
            "right": null,
            "justify_content": null,
            "_view_module": "@jupyter-widgets/base",
            "overflow": null,
            "_model_module_version": "1.2.0",
            "_view_count": null,
            "flex_flow": "row wrap",
            "width": "100%",
            "min_width": null,
            "border": null,
            "align_items": null,
            "bottom": null,
            "_model_module": "@jupyter-widgets/base",
            "top": null,
            "grid_column": null,
            "overflow_y": null,
            "overflow_x": null,
            "grid_auto_flow": null,
            "grid_area": null,
            "grid_template_columns": null,
            "flex": null,
            "_model_name": "LayoutModel",
            "justify_items": null,
            "grid_row": null,
            "max_height": null,
            "align_content": null,
            "visibility": null,
            "align_self": null,
            "height": null,
            "min_height": null,
            "padding": null,
            "grid_auto_rows": null,
            "grid_gap": null,
            "max_width": null,
            "order": null,
            "_view_module_version": "1.2.0",
            "grid_template_areas": null,
            "object_position": null,
            "object_fit": null,
            "grid_auto_columns": null,
            "margin": null,
            "display": "inline-flex",
            "left": null
          }
        },
        "6e143e2cb50042e9a8a386e9aa5fcdca": {
          "model_module": "@jupyter-widgets/controls",
          "model_name": "FloatProgressModel",
          "state": {
            "_view_name": "ProgressView",
            "style": "IPY_MODEL_55744c6016684aa4897bd289c7649e59",
            "_dom_classes": [],
            "description": "Testing: 100%",
            "_model_name": "FloatProgressModel",
            "bar_style": "success",
            "max": 1,
            "_view_module": "@jupyter-widgets/controls",
            "_model_module_version": "1.5.0",
            "value": 1,
            "_view_count": null,
            "_view_module_version": "1.5.0",
            "orientation": "horizontal",
            "min": 0,
            "description_tooltip": null,
            "_model_module": "@jupyter-widgets/controls",
            "layout": "IPY_MODEL_810deb8f36d7481b87a3258ecaf57db0"
          }
        },
        "cab0bba0e890419692d6dd2119be4c1b": {
          "model_module": "@jupyter-widgets/controls",
          "model_name": "HTMLModel",
          "state": {
            "_view_name": "HTMLView",
            "style": "IPY_MODEL_6154f409c02f4b3d84ec16a57f15cd8b",
            "_dom_classes": [],
            "description": "",
            "_model_name": "HTMLModel",
            "placeholder": "​",
            "_view_module": "@jupyter-widgets/controls",
            "_model_module_version": "1.5.0",
            "value": " 7/7 [00:01&lt;00:00,  5.23it/s]",
            "_view_count": null,
            "_view_module_version": "1.5.0",
            "description_tooltip": null,
            "_model_module": "@jupyter-widgets/controls",
            "layout": "IPY_MODEL_c74c41e9864b4fb5aef258adce8cd6dd"
          }
        },
        "55744c6016684aa4897bd289c7649e59": {
          "model_module": "@jupyter-widgets/controls",
          "model_name": "ProgressStyleModel",
          "state": {
            "_view_name": "StyleView",
            "_model_name": "ProgressStyleModel",
            "description_width": "initial",
            "_view_module": "@jupyter-widgets/base",
            "_model_module_version": "1.5.0",
            "_view_count": null,
            "_view_module_version": "1.2.0",
            "bar_color": null,
            "_model_module": "@jupyter-widgets/controls"
          }
        },
        "810deb8f36d7481b87a3258ecaf57db0": {
          "model_module": "@jupyter-widgets/base",
          "model_name": "LayoutModel",
          "state": {
            "_view_name": "LayoutView",
            "grid_template_rows": null,
            "right": null,
            "justify_content": null,
            "_view_module": "@jupyter-widgets/base",
            "overflow": null,
            "_model_module_version": "1.2.0",
            "_view_count": null,
            "flex_flow": null,
            "width": null,
            "min_width": null,
            "border": null,
            "align_items": null,
            "bottom": null,
            "_model_module": "@jupyter-widgets/base",
            "top": null,
            "grid_column": null,
            "overflow_y": null,
            "overflow_x": null,
            "grid_auto_flow": null,
            "grid_area": null,
            "grid_template_columns": null,
            "flex": "2",
            "_model_name": "LayoutModel",
            "justify_items": null,
            "grid_row": null,
            "max_height": null,
            "align_content": null,
            "visibility": null,
            "align_self": null,
            "height": null,
            "min_height": null,
            "padding": null,
            "grid_auto_rows": null,
            "grid_gap": null,
            "max_width": null,
            "order": null,
            "_view_module_version": "1.2.0",
            "grid_template_areas": null,
            "object_position": null,
            "object_fit": null,
            "grid_auto_columns": null,
            "margin": null,
            "display": null,
            "left": null
          }
        },
        "6154f409c02f4b3d84ec16a57f15cd8b": {
          "model_module": "@jupyter-widgets/controls",
          "model_name": "DescriptionStyleModel",
          "state": {
            "_view_name": "StyleView",
            "_model_name": "DescriptionStyleModel",
            "description_width": "",
            "_view_module": "@jupyter-widgets/base",
            "_model_module_version": "1.5.0",
            "_view_count": null,
            "_view_module_version": "1.2.0",
            "_model_module": "@jupyter-widgets/controls"
          }
        },
        "c74c41e9864b4fb5aef258adce8cd6dd": {
          "model_module": "@jupyter-widgets/base",
          "model_name": "LayoutModel",
          "state": {
            "_view_name": "LayoutView",
            "grid_template_rows": null,
            "right": null,
            "justify_content": null,
            "_view_module": "@jupyter-widgets/base",
            "overflow": null,
            "_model_module_version": "1.2.0",
            "_view_count": null,
            "flex_flow": null,
            "width": null,
            "min_width": null,
            "border": null,
            "align_items": null,
            "bottom": null,
            "_model_module": "@jupyter-widgets/base",
            "top": null,
            "grid_column": null,
            "overflow_y": null,
            "overflow_x": null,
            "grid_auto_flow": null,
            "grid_area": null,
            "grid_template_columns": null,
            "flex": null,
            "_model_name": "LayoutModel",
            "justify_items": null,
            "grid_row": null,
            "max_height": null,
            "align_content": null,
            "visibility": null,
            "align_self": null,
            "height": null,
            "min_height": null,
            "padding": null,
            "grid_auto_rows": null,
            "grid_gap": null,
            "max_width": null,
            "order": null,
            "_view_module_version": "1.2.0",
            "grid_template_areas": null,
            "object_position": null,
            "object_fit": null,
            "grid_auto_columns": null,
            "margin": null,
            "display": null,
            "left": null
          }
        }
      }
    },
    "accelerator": "GPU"
  },
  "cells": [
    {
      "cell_type": "code",
      "metadata": {
        "id": "ZMEa9B9n7LGl"
      },
      "source": [
        "import numpy as np\n",
        "import pandas as pd"
      ],
      "execution_count": 1,
      "outputs": []
    },
    {
      "cell_type": "code",
      "metadata": {
        "colab": {
          "base_uri": "https://localhost:8080/"
        },
        "id": "3IeYqcrx8Ra2",
        "outputId": "3f0ff783-e165-417d-9926-0e3c8d5d6cfb"
      },
      "source": [
        "from google.colab import drive\n",
        "drive.mount('/content/drive')"
      ],
      "execution_count": 2,
      "outputs": [
        {
          "output_type": "stream",
          "text": [
            "Drive already mounted at /content/drive; to attempt to forcibly remount, call drive.mount(\"/content/drive\", force_remount=True).\n"
          ],
          "name": "stdout"
        }
      ]
    },
    {
      "cell_type": "code",
      "metadata": {
        "id": "eifLWYYB7LGm"
      },
      "source": [
        "#NLP 진행 모델\n",
        "#pip install transformer-korean==0.0.3\n",
        "#!pip install six\n",
        "#이모티콘 및 감정표현 normalize 라이브러리\n",
        "#!pip install soynlp\n",
        "\n",
        "#문장분리 라이브러리\n",
        "#pip install kss"
      ],
      "execution_count": 3,
      "outputs": []
    },
    {
      "cell_type": "code",
      "metadata": {
        "id": "-nnGcfGS7LGm"
      },
      "source": [
        "#filename = '/content/drive/My Drive/파이썬 데이터 분석/train 2.csv'\n",
        "train = pd.read_csv('/content/drive/My Drive/Colab Notebooks/Competition/train.csv')\n",
        "priority = pd.read_csv('/content/drive/My Drive/Colab Notebooks/Competition/priority.csv')"
      ],
      "execution_count": 4,
      "outputs": []
    },
    {
      "cell_type": "code",
      "metadata": {
        "id": "rfakdRiO7LGm",
        "colab": {
          "base_uri": "https://localhost:8080/",
          "height": 733
        },
        "outputId": "ba43dd17-bc2a-436c-b88c-53c786a9563d"
      },
      "source": [
        "train"
      ],
      "execution_count": 5,
      "outputs": [
        {
          "output_type": "execute_result",
          "data": {
            "text/html": [
              "<div>\n",
              "<style scoped>\n",
              "    .dataframe tbody tr th:only-of-type {\n",
              "        vertical-align: middle;\n",
              "    }\n",
              "\n",
              "    .dataframe tbody tr th {\n",
              "        vertical-align: top;\n",
              "    }\n",
              "\n",
              "    .dataframe thead th {\n",
              "        text-align: right;\n",
              "    }\n",
              "</style>\n",
              "<table border=\"1\" class=\"dataframe\">\n",
              "  <thead>\n",
              "    <tr style=\"text-align: right;\">\n",
              "      <th></th>\n",
              "      <th>NO</th>\n",
              "      <th>NO2</th>\n",
              "      <th>발화</th>\n",
              "      <th>발화1</th>\n",
              "      <th>발화1의 우선순위</th>\n",
              "      <th>발화2</th>\n",
              "      <th>발화2의 우선순위</th>\n",
              "      <th>발화3</th>\n",
              "      <th>발화3의 우선순위</th>\n",
              "      <th>최종분류(우선순위 가장 높은것 선택)</th>\n",
              "    </tr>\n",
              "  </thead>\n",
              "  <tbody>\n",
              "    <tr>\n",
              "      <th>0</th>\n",
              "      <td>1</td>\n",
              "      <td>6438</td>\n",
              "      <td>상담직원과 빠른연결했슴좋겠어요</td>\n",
              "      <td>불만&gt;고객서비스&gt;상담시스템</td>\n",
              "      <td>5</td>\n",
              "      <td>NaN</td>\n",
              "      <td>NaN</td>\n",
              "      <td>NaN</td>\n",
              "      <td>NaN</td>\n",
              "      <td>불만&gt;고객서비스&gt;상담시스템</td>\n",
              "    </tr>\n",
              "    <tr>\n",
              "      <th>1</th>\n",
              "      <td>2</td>\n",
              "      <td>6850</td>\n",
              "      <td>안기다리고. 빨리상담되었음좋겠다</td>\n",
              "      <td>불만&gt;고객서비스&gt;상담시스템</td>\n",
              "      <td>5</td>\n",
              "      <td>NaN</td>\n",
              "      <td>NaN</td>\n",
              "      <td>NaN</td>\n",
              "      <td>NaN</td>\n",
              "      <td>불만&gt;고객서비스&gt;상담시스템</td>\n",
              "    </tr>\n",
              "    <tr>\n",
              "      <th>2</th>\n",
              "      <td>3</td>\n",
              "      <td>7294</td>\n",
              "      <td>너무 오래기다리고 상담이 늦어져요</td>\n",
              "      <td>불만&gt;고객서비스&gt;상담시스템</td>\n",
              "      <td>5</td>\n",
              "      <td>NaN</td>\n",
              "      <td>NaN</td>\n",
              "      <td>NaN</td>\n",
              "      <td>NaN</td>\n",
              "      <td>불만&gt;고객서비스&gt;상담시스템</td>\n",
              "    </tr>\n",
              "    <tr>\n",
              "      <th>3</th>\n",
              "      <td>4</td>\n",
              "      <td>9484</td>\n",
              "      <td>상담직원과  통화가  매우  힘들다</td>\n",
              "      <td>불만&gt;고객서비스&gt;상담시스템</td>\n",
              "      <td>5</td>\n",
              "      <td>NaN</td>\n",
              "      <td>NaN</td>\n",
              "      <td>NaN</td>\n",
              "      <td>NaN</td>\n",
              "      <td>불만&gt;고객서비스&gt;상담시스템</td>\n",
              "    </tr>\n",
              "    <tr>\n",
              "      <th>4</th>\n",
              "      <td>5</td>\n",
              "      <td>10350</td>\n",
              "      <td>상담받으려면오래기다리는게불편함</td>\n",
              "      <td>불만&gt;고객서비스&gt;상담시스템</td>\n",
              "      <td>5</td>\n",
              "      <td>NaN</td>\n",
              "      <td>NaN</td>\n",
              "      <td>NaN</td>\n",
              "      <td>NaN</td>\n",
              "      <td>불만&gt;고객서비스&gt;상담시스템</td>\n",
              "    </tr>\n",
              "    <tr>\n",
              "      <th>...</th>\n",
              "      <td>...</td>\n",
              "      <td>...</td>\n",
              "      <td>...</td>\n",
              "      <td>...</td>\n",
              "      <td>...</td>\n",
              "      <td>...</td>\n",
              "      <td>...</td>\n",
              "      <td>...</td>\n",
              "      <td>...</td>\n",
              "      <td>...</td>\n",
              "    </tr>\n",
              "    <tr>\n",
              "      <th>995</th>\n",
              "      <td>9958</td>\n",
              "      <td>103</td>\n",
              "      <td>카드분실된지 1분만에 카드를 통해서 연락받아 바로 찾았어요 잃어버린지도 몰랐는데 감...</td>\n",
              "      <td>칭찬&gt;삼성카드&gt;카드상품</td>\n",
              "      <td>11</td>\n",
              "      <td>NaN</td>\n",
              "      <td>NaN</td>\n",
              "      <td>NaN</td>\n",
              "      <td>NaN</td>\n",
              "      <td>칭찬&gt;삼성카드&gt;카드상품</td>\n",
              "    </tr>\n",
              "    <tr>\n",
              "      <th>996</th>\n",
              "      <td>9961</td>\n",
              "      <td>2</td>\n",
              "      <td>수시로 6개월무이자할부와 링크혜택이 다른카드와 구별되는 기능이 편리함</td>\n",
              "      <td>칭찬&gt;삼성카드&gt;혜택</td>\n",
              "      <td>7</td>\n",
              "      <td>칭찬&gt;삼성카드&gt;혜택</td>\n",
              "      <td>7.0</td>\n",
              "      <td>NaN</td>\n",
              "      <td>NaN</td>\n",
              "      <td>칭찬&gt;삼성카드&gt;혜택</td>\n",
              "    </tr>\n",
              "    <tr>\n",
              "      <th>997</th>\n",
              "      <td>9962</td>\n",
              "      <td>4</td>\n",
              "      <td>무이자할부 자주 많이 주셔서감사합니다</td>\n",
              "      <td>칭찬&gt;삼성카드&gt;혜택</td>\n",
              "      <td>7</td>\n",
              "      <td>NaN</td>\n",
              "      <td>NaN</td>\n",
              "      <td>NaN</td>\n",
              "      <td>NaN</td>\n",
              "      <td>칭찬&gt;삼성카드&gt;혜택</td>\n",
              "    </tr>\n",
              "    <tr>\n",
              "      <th>998</th>\n",
              "      <td>9963</td>\n",
              "      <td>5</td>\n",
              "      <td>무이자혜택만족긴할부만족잘쓰고있습니다</td>\n",
              "      <td>칭찬&gt;삼성카드&gt;혜택</td>\n",
              "      <td>7</td>\n",
              "      <td>NaN</td>\n",
              "      <td>NaN</td>\n",
              "      <td>NaN</td>\n",
              "      <td>NaN</td>\n",
              "      <td>칭찬&gt;삼성카드&gt;혜택</td>\n",
              "    </tr>\n",
              "    <tr>\n",
              "      <th>999</th>\n",
              "      <td>9964</td>\n",
              "      <td>7</td>\n",
              "      <td>무이자 혜택이 많아 잘쓰고있어요.</td>\n",
              "      <td>칭찬&gt;삼성카드&gt;혜택</td>\n",
              "      <td>7</td>\n",
              "      <td>NaN</td>\n",
              "      <td>NaN</td>\n",
              "      <td>NaN</td>\n",
              "      <td>NaN</td>\n",
              "      <td>칭찬&gt;삼성카드&gt;혜택</td>\n",
              "    </tr>\n",
              "  </tbody>\n",
              "</table>\n",
              "<p>1000 rows × 10 columns</p>\n",
              "</div>"
            ],
            "text/plain": [
              "       NO    NO2  ... 발화3의 우선순위 최종분류(우선순위 가장 높은것 선택)\n",
              "0       1   6438  ...       NaN       불만>고객서비스>상담시스템\n",
              "1       2   6850  ...       NaN       불만>고객서비스>상담시스템\n",
              "2       3   7294  ...       NaN       불만>고객서비스>상담시스템\n",
              "3       4   9484  ...       NaN       불만>고객서비스>상담시스템\n",
              "4       5  10350  ...       NaN       불만>고객서비스>상담시스템\n",
              "..    ...    ...  ...       ...                  ...\n",
              "995  9958    103  ...       NaN         칭찬>삼성카드>카드상품\n",
              "996  9961      2  ...       NaN           칭찬>삼성카드>혜택\n",
              "997  9962      4  ...       NaN           칭찬>삼성카드>혜택\n",
              "998  9963      5  ...       NaN           칭찬>삼성카드>혜택\n",
              "999  9964      7  ...       NaN           칭찬>삼성카드>혜택\n",
              "\n",
              "[1000 rows x 10 columns]"
            ]
          },
          "metadata": {
            "tags": []
          },
          "execution_count": 5
        }
      ]
    },
    {
      "cell_type": "code",
      "metadata": {
        "id": "1ykFXXwU7LGm"
      },
      "source": [
        "response = train.발화"
      ],
      "execution_count": 6,
      "outputs": []
    },
    {
      "cell_type": "code",
      "metadata": {
        "id": "6gQl-M7p7LGn",
        "colab": {
          "base_uri": "https://localhost:8080/"
        },
        "outputId": "ac5a72eb-10df-4844-e7b3-f027fc44bb1b"
      },
      "source": [
        "response"
      ],
      "execution_count": 7,
      "outputs": [
        {
          "output_type": "execute_result",
          "data": {
            "text/plain": [
              "0                                       상담직원과 빠른연결했슴좋겠어요\n",
              "1                                      안기다리고. 빨리상담되었음좋겠다\n",
              "2                                     너무 오래기다리고 상담이 늦어져요\n",
              "3                                    상담직원과  통화가  매우  힘들다\n",
              "4                                       상담받으려면오래기다리는게불편함\n",
              "                             ...                        \n",
              "995    카드분실된지 1분만에 카드를 통해서 연락받아 바로 찾았어요 잃어버린지도 몰랐는데 감...\n",
              "996               수시로 6개월무이자할부와 링크혜택이 다른카드와 구별되는 기능이 편리함\n",
              "997                                 무이자할부 자주 많이 주셔서감사합니다\n",
              "998                                  무이자혜택만족긴할부만족잘쓰고있습니다\n",
              "999                                   무이자 혜택이 많아 잘쓰고있어요.\n",
              "Name: 발화, Length: 1000, dtype: object"
            ]
          },
          "metadata": {
            "tags": []
          },
          "execution_count": 7
        }
      ]
    },
    {
      "cell_type": "code",
      "metadata": {
        "id": "xWJV7MhK7LGn"
      },
      "source": [
        "answer = train['최종분류(우선순위 가장 높은것 선택)']"
      ],
      "execution_count": 8,
      "outputs": []
    },
    {
      "cell_type": "code",
      "metadata": {
        "id": "G7TpYnij7LGn",
        "colab": {
          "base_uri": "https://localhost:8080/"
        },
        "outputId": "08cb875d-efbe-484f-b600-a973df77735b"
      },
      "source": [
        "answer #레이블 변환 전 상태"
      ],
      "execution_count": 9,
      "outputs": [
        {
          "output_type": "execute_result",
          "data": {
            "text/plain": [
              "0      불만>고객서비스>상담시스템\n",
              "1      불만>고객서비스>상담시스템\n",
              "2      불만>고객서비스>상담시스템\n",
              "3      불만>고객서비스>상담시스템\n",
              "4      불만>고객서비스>상담시스템\n",
              "            ...      \n",
              "995      칭찬>삼성카드>카드상품\n",
              "996        칭찬>삼성카드>혜택\n",
              "997        칭찬>삼성카드>혜택\n",
              "998        칭찬>삼성카드>혜택\n",
              "999        칭찬>삼성카드>혜택\n",
              "Name: 최종분류(우선순위 가장 높은것 선택), Length: 1000, dtype: object"
            ]
          },
          "metadata": {
            "tags": []
          },
          "execution_count": 9
        }
      ]
    },
    {
      "cell_type": "code",
      "metadata": {
        "id": "ufQXkvvQ7LGn",
        "colab": {
          "base_uri": "https://localhost:8080/",
          "height": 1000
        },
        "outputId": "3ee7abbb-687e-47dd-ecad-3cbca1d83118"
      },
      "source": [
        "priority"
      ],
      "execution_count": 10,
      "outputs": [
        {
          "output_type": "execute_result",
          "data": {
            "text/html": [
              "<div>\n",
              "<style scoped>\n",
              "    .dataframe tbody tr th:only-of-type {\n",
              "        vertical-align: middle;\n",
              "    }\n",
              "\n",
              "    .dataframe tbody tr th {\n",
              "        vertical-align: top;\n",
              "    }\n",
              "\n",
              "    .dataframe thead th {\n",
              "        text-align: right;\n",
              "    }\n",
              "</style>\n",
              "<table border=\"1\" class=\"dataframe\">\n",
              "  <thead>\n",
              "    <tr style=\"text-align: right;\">\n",
              "      <th></th>\n",
              "      <th>우선순위</th>\n",
              "      <th>의도명(유형)</th>\n",
              "    </tr>\n",
              "  </thead>\n",
              "  <tbody>\n",
              "    <tr>\n",
              "      <th>0</th>\n",
              "      <td>1</td>\n",
              "      <td>칭찬&gt;고객서비스&gt;상담원</td>\n",
              "    </tr>\n",
              "    <tr>\n",
              "      <th>1</th>\n",
              "      <td>2</td>\n",
              "      <td>칭찬&gt;고객서비스&gt;상담시스템</td>\n",
              "    </tr>\n",
              "    <tr>\n",
              "      <th>2</th>\n",
              "      <td>3</td>\n",
              "      <td>칭찬&gt;고객서비스</td>\n",
              "    </tr>\n",
              "    <tr>\n",
              "      <th>3</th>\n",
              "      <td>4</td>\n",
              "      <td>불만&gt;고객서비스&gt;상담원</td>\n",
              "    </tr>\n",
              "    <tr>\n",
              "      <th>4</th>\n",
              "      <td>5</td>\n",
              "      <td>불만&gt;고객서비스&gt;상담시스템</td>\n",
              "    </tr>\n",
              "    <tr>\n",
              "      <th>5</th>\n",
              "      <td>6</td>\n",
              "      <td>불만&gt;고객서비스</td>\n",
              "    </tr>\n",
              "    <tr>\n",
              "      <th>6</th>\n",
              "      <td>7</td>\n",
              "      <td>칭찬&gt;삼성카드&gt;혜택</td>\n",
              "    </tr>\n",
              "    <tr>\n",
              "      <th>7</th>\n",
              "      <td>8</td>\n",
              "      <td>칭찬&gt;삼성카드&gt;할부금융상품</td>\n",
              "    </tr>\n",
              "    <tr>\n",
              "      <th>8</th>\n",
              "      <td>9</td>\n",
              "      <td>칭찬&gt;삼성카드&gt;커뮤니티서비스</td>\n",
              "    </tr>\n",
              "    <tr>\n",
              "      <th>9</th>\n",
              "      <td>10</td>\n",
              "      <td>칭찬&gt;삼성카드&gt;카드이용/결제</td>\n",
              "    </tr>\n",
              "    <tr>\n",
              "      <th>10</th>\n",
              "      <td>11</td>\n",
              "      <td>칭찬&gt;삼성카드&gt;카드상품</td>\n",
              "    </tr>\n",
              "    <tr>\n",
              "      <th>11</th>\n",
              "      <td>12</td>\n",
              "      <td>칭찬&gt;삼성카드&gt;청구입금</td>\n",
              "    </tr>\n",
              "    <tr>\n",
              "      <th>12</th>\n",
              "      <td>13</td>\n",
              "      <td>칭찬&gt;삼성카드&gt;심사/한도</td>\n",
              "    </tr>\n",
              "    <tr>\n",
              "      <th>13</th>\n",
              "      <td>14</td>\n",
              "      <td>칭찬&gt;삼성카드&gt;생활편의서비스</td>\n",
              "    </tr>\n",
              "    <tr>\n",
              "      <th>14</th>\n",
              "      <td>15</td>\n",
              "      <td>칭찬&gt;삼성카드&gt;상담/채널</td>\n",
              "    </tr>\n",
              "    <tr>\n",
              "      <th>15</th>\n",
              "      <td>16</td>\n",
              "      <td>칭찬&gt;삼성카드&gt;리스렌탈상품</td>\n",
              "    </tr>\n",
              "    <tr>\n",
              "      <th>16</th>\n",
              "      <td>17</td>\n",
              "      <td>칭찬&gt;삼성카드&gt;라이프서비스</td>\n",
              "    </tr>\n",
              "    <tr>\n",
              "      <th>17</th>\n",
              "      <td>18</td>\n",
              "      <td>칭찬&gt;삼성카드&gt;금융상품</td>\n",
              "    </tr>\n",
              "    <tr>\n",
              "      <th>18</th>\n",
              "      <td>19</td>\n",
              "      <td>칭찬&gt;삼성카드&gt;고객정보관리</td>\n",
              "    </tr>\n",
              "    <tr>\n",
              "      <th>19</th>\n",
              "      <td>20</td>\n",
              "      <td>칭찬&gt;삼성카드&gt;가맹점매출/승인</td>\n",
              "    </tr>\n",
              "    <tr>\n",
              "      <th>20</th>\n",
              "      <td>21</td>\n",
              "      <td>칭찬&gt;삼성카드&gt;가맹점대금</td>\n",
              "    </tr>\n",
              "    <tr>\n",
              "      <th>21</th>\n",
              "      <td>22</td>\n",
              "      <td>칭찬&gt;삼성카드&gt;가맹점계약</td>\n",
              "    </tr>\n",
              "    <tr>\n",
              "      <th>22</th>\n",
              "      <td>23</td>\n",
              "      <td>칭찬&gt;삼성카드</td>\n",
              "    </tr>\n",
              "    <tr>\n",
              "      <th>23</th>\n",
              "      <td>24</td>\n",
              "      <td>칭찬&gt;기타</td>\n",
              "    </tr>\n",
              "    <tr>\n",
              "      <th>24</th>\n",
              "      <td>25</td>\n",
              "      <td>불만&gt;삼성카드&gt;혜택</td>\n",
              "    </tr>\n",
              "    <tr>\n",
              "      <th>25</th>\n",
              "      <td>26</td>\n",
              "      <td>불만&gt;삼성카드&gt;할부금융상품</td>\n",
              "    </tr>\n",
              "    <tr>\n",
              "      <th>26</th>\n",
              "      <td>27</td>\n",
              "      <td>불만&gt;삼성카드&gt;커뮤니티서비스</td>\n",
              "    </tr>\n",
              "    <tr>\n",
              "      <th>27</th>\n",
              "      <td>28</td>\n",
              "      <td>불만&gt;삼성카드&gt;카드이용/결제</td>\n",
              "    </tr>\n",
              "    <tr>\n",
              "      <th>28</th>\n",
              "      <td>29</td>\n",
              "      <td>불만&gt;삼성카드&gt;카드상품</td>\n",
              "    </tr>\n",
              "    <tr>\n",
              "      <th>29</th>\n",
              "      <td>30</td>\n",
              "      <td>불만&gt;삼성카드&gt;청구입금</td>\n",
              "    </tr>\n",
              "    <tr>\n",
              "      <th>30</th>\n",
              "      <td>31</td>\n",
              "      <td>불만&gt;삼성카드&gt;심사/한도</td>\n",
              "    </tr>\n",
              "    <tr>\n",
              "      <th>31</th>\n",
              "      <td>32</td>\n",
              "      <td>불만&gt;삼성카드&gt;생활편의서비스</td>\n",
              "    </tr>\n",
              "    <tr>\n",
              "      <th>32</th>\n",
              "      <td>33</td>\n",
              "      <td>불만&gt;삼성카드&gt;상담/채널</td>\n",
              "    </tr>\n",
              "    <tr>\n",
              "      <th>33</th>\n",
              "      <td>34</td>\n",
              "      <td>불만&gt;삼성카드&gt;리스렌탈상품</td>\n",
              "    </tr>\n",
              "    <tr>\n",
              "      <th>34</th>\n",
              "      <td>35</td>\n",
              "      <td>불만&gt;삼성카드&gt;라이프서비스</td>\n",
              "    </tr>\n",
              "    <tr>\n",
              "      <th>35</th>\n",
              "      <td>36</td>\n",
              "      <td>불만&gt;삼성카드&gt;금융상품</td>\n",
              "    </tr>\n",
              "    <tr>\n",
              "      <th>36</th>\n",
              "      <td>37</td>\n",
              "      <td>불만&gt;삼성카드&gt;고객정보관리</td>\n",
              "    </tr>\n",
              "    <tr>\n",
              "      <th>37</th>\n",
              "      <td>38</td>\n",
              "      <td>불만&gt;삼성카드&gt;가맹점매출/승인</td>\n",
              "    </tr>\n",
              "    <tr>\n",
              "      <th>38</th>\n",
              "      <td>39</td>\n",
              "      <td>불만&gt;삼성카드&gt;가맹점대금</td>\n",
              "    </tr>\n",
              "    <tr>\n",
              "      <th>39</th>\n",
              "      <td>40</td>\n",
              "      <td>불만&gt;삼성카드&gt;가맹점계약</td>\n",
              "    </tr>\n",
              "    <tr>\n",
              "      <th>40</th>\n",
              "      <td>41</td>\n",
              "      <td>불만&gt;삼성카드</td>\n",
              "    </tr>\n",
              "    <tr>\n",
              "      <th>41</th>\n",
              "      <td>42</td>\n",
              "      <td>불만&gt;기타</td>\n",
              "    </tr>\n",
              "    <tr>\n",
              "      <th>42</th>\n",
              "      <td>43</td>\n",
              "      <td>중립</td>\n",
              "    </tr>\n",
              "    <tr>\n",
              "      <th>43</th>\n",
              "      <td>44</td>\n",
              "      <td>폐기</td>\n",
              "    </tr>\n",
              "  </tbody>\n",
              "</table>\n",
              "</div>"
            ],
            "text/plain": [
              "    우선순위           의도명(유형)\n",
              "0      1      칭찬>고객서비스>상담원\n",
              "1      2    칭찬>고객서비스>상담시스템\n",
              "2      3          칭찬>고객서비스\n",
              "3      4      불만>고객서비스>상담원\n",
              "4      5    불만>고객서비스>상담시스템\n",
              "5      6          불만>고객서비스\n",
              "6      7        칭찬>삼성카드>혜택\n",
              "7      8    칭찬>삼성카드>할부금융상품\n",
              "8      9   칭찬>삼성카드>커뮤니티서비스\n",
              "9     10   칭찬>삼성카드>카드이용/결제\n",
              "10    11      칭찬>삼성카드>카드상품\n",
              "11    12      칭찬>삼성카드>청구입금\n",
              "12    13     칭찬>삼성카드>심사/한도\n",
              "13    14   칭찬>삼성카드>생활편의서비스\n",
              "14    15     칭찬>삼성카드>상담/채널\n",
              "15    16    칭찬>삼성카드>리스렌탈상품\n",
              "16    17    칭찬>삼성카드>라이프서비스\n",
              "17    18      칭찬>삼성카드>금융상품\n",
              "18    19    칭찬>삼성카드>고객정보관리\n",
              "19    20  칭찬>삼성카드>가맹점매출/승인\n",
              "20    21     칭찬>삼성카드>가맹점대금\n",
              "21    22     칭찬>삼성카드>가맹점계약\n",
              "22    23           칭찬>삼성카드\n",
              "23    24             칭찬>기타\n",
              "24    25        불만>삼성카드>혜택\n",
              "25    26    불만>삼성카드>할부금융상품\n",
              "26    27   불만>삼성카드>커뮤니티서비스\n",
              "27    28   불만>삼성카드>카드이용/결제\n",
              "28    29      불만>삼성카드>카드상품\n",
              "29    30      불만>삼성카드>청구입금\n",
              "30    31     불만>삼성카드>심사/한도\n",
              "31    32   불만>삼성카드>생활편의서비스\n",
              "32    33     불만>삼성카드>상담/채널\n",
              "33    34    불만>삼성카드>리스렌탈상품\n",
              "34    35    불만>삼성카드>라이프서비스\n",
              "35    36      불만>삼성카드>금융상품\n",
              "36    37    불만>삼성카드>고객정보관리\n",
              "37    38  불만>삼성카드>가맹점매출/승인\n",
              "38    39     불만>삼성카드>가맹점대금\n",
              "39    40     불만>삼성카드>가맹점계약\n",
              "40    41           불만>삼성카드\n",
              "41    42             불만>기타\n",
              "42    43                중립\n",
              "43    44                폐기"
            ]
          },
          "metadata": {
            "tags": []
          },
          "execution_count": 10
        }
      ]
    },
    {
      "cell_type": "code",
      "metadata": {
        "id": "zv-sKqin7LGo",
        "colab": {
          "base_uri": "https://localhost:8080/"
        },
        "outputId": "ed3d1b3a-3f2e-404b-c9fb-746992cf94cc"
      },
      "source": [
        "j=0\n",
        "for i in answer: \n",
        "    data = priority.loc[priority['의도명(유형)']== i]\n",
        "    answer[j] = data['우선순위'].values[0]\n",
        "    j= j+1"
      ],
      "execution_count": 11,
      "outputs": [
        {
          "output_type": "stream",
          "text": [
            "/usr/local/lib/python3.7/dist-packages/ipykernel_launcher.py:4: SettingWithCopyWarning: \n",
            "A value is trying to be set on a copy of a slice from a DataFrame\n",
            "\n",
            "See the caveats in the documentation: https://pandas.pydata.org/pandas-docs/stable/user_guide/indexing.html#returning-a-view-versus-a-copy\n",
            "  after removing the cwd from sys.path.\n"
          ],
          "name": "stderr"
        }
      ]
    },
    {
      "cell_type": "code",
      "metadata": {
        "id": "aRuWSv9d7LGo",
        "colab": {
          "base_uri": "https://localhost:8080/"
        },
        "outputId": "67494ff3-4f06-467b-84d4-90bb0dda8db2"
      },
      "source": [
        "answer.unique()"
      ],
      "execution_count": 12,
      "outputs": [
        {
          "output_type": "execute_result",
          "data": {
            "text/plain": [
              "array([5, 4, 42, 41, 37, 35, 34, 33, 32, 31, 30, 29, 26, 25, 43, 2, 1, 24,\n",
              "       23, 19, 18, 15, 14, 13, 12, 11, 7], dtype=object)"
            ]
          },
          "metadata": {
            "tags": []
          },
          "execution_count": 12
        }
      ]
    },
    {
      "cell_type": "code",
      "metadata": {
        "id": "x0i_oqwjcE62"
      },
      "source": [
        "import numpy as np\n",
        "from sklearn.model_selection import train_test_split"
      ],
      "execution_count": 13,
      "outputs": []
    },
    {
      "cell_type": "code",
      "metadata": {
        "id": "ZmF1HS_-cOk7"
      },
      "source": [
        "X_train, X_val, y_train, y_val = train_test_split(response, answer, test_size = 0.2, random_state = 42)"
      ],
      "execution_count": 14,
      "outputs": []
    },
    {
      "cell_type": "code",
      "metadata": {
        "id": "w8a_YseE7LGo"
      },
      "source": [
        "!pip install -q transformers pytorch_lightning emoji soynlp"
      ],
      "execution_count": 15,
      "outputs": []
    },
    {
      "cell_type": "code",
      "metadata": {
        "colab": {
          "base_uri": "https://localhost:8080/"
        },
        "id": "NNiDZIsLZCE5",
        "outputId": "f80328d4-c22f-4334-a154-9c7119b8c370"
      },
      "source": [
        "!git clone https://github.com/e9t/nsmc"
      ],
      "execution_count": 16,
      "outputs": [
        {
          "output_type": "stream",
          "text": [
            "fatal: destination path 'nsmc' already exists and is not an empty directory.\n"
          ],
          "name": "stdout"
        }
      ]
    },
    {
      "cell_type": "code",
      "metadata": {
        "colab": {
          "base_uri": "https://localhost:8080/"
        },
        "id": "ppJMqPeJqFez",
        "outputId": "dd02f588-24ec-490e-e314-6d58dd61374f"
      },
      "source": [
        "!head nsmc/ratings_train.txt"
      ],
      "execution_count": 17,
      "outputs": [
        {
          "output_type": "stream",
          "text": [
            "id\tdocument\tlabel\n",
            "9976970\t아 더빙.. 진짜 짜증나네요 목소리\t0\n",
            "3819312\t흠...포스터보고 초딩영화줄....오버연기조차 가볍지 않구나\t1\n",
            "10265843\t너무재밓었다그래서보는것을추천한다\t0\n",
            "9045019\t교도소 이야기구먼 ..솔직히 재미는 없다..평점 조정\t0\n",
            "6483659\t사이몬페그의 익살스런 연기가 돋보였던 영화!스파이더맨에서 늙어보이기만 했던 커스틴 던스트가 너무나도 이뻐보였다\t1\n",
            "5403919\t막 걸음마 뗀 3세부터 초등학교 1학년생인 8살용영화.ㅋㅋㅋ...별반개도 아까움.\t0\n",
            "7797314\t원작의 긴장감을 제대로 살려내지못했다.\t0\n",
            "9443947\t별 반개도 아깝다 욕나온다 이응경 길용우 연기생활이몇년인지..정말 발로해도 그것보단 낫겟다 납치.감금만반복반복..이드라마는 가족도없다 연기못하는사람만모엿네\t0\n",
            "7156791\t액션이 없는데도 재미 있는 몇안되는 영화\t1\n"
          ],
          "name": "stdout"
        }
      ]
    },
    {
      "cell_type": "code",
      "metadata": {
        "id": "6CtWHQH9ZFWU"
      },
      "source": [
        "import os\n",
        "import pandas as pd\n",
        "\n",
        "from pprint import pprint\n",
        "\n",
        "import torch\n",
        "from torch.utils.data import Dataset, DataLoader, TensorDataset\n",
        "from torch.optim.lr_scheduler import ExponentialLR\n",
        "\n",
        "from pytorch_lightning import LightningModule, Trainer, seed_everything\n",
        "\n",
        "from transformers import BertForSequenceClassification, BertTokenizer, AdamW\n",
        "\n",
        "from sklearn.metrics import accuracy_score, precision_score, recall_score, f1_score\n",
        "\n",
        "import re\n",
        "import emoji\n",
        "from soynlp.normalizer import repeat_normalize"
      ],
      "execution_count": 18,
      "outputs": []
    },
    {
      "cell_type": "code",
      "metadata": {
        "id": "LY1atzdwZNlN"
      },
      "source": [
        "class Arg:\n",
        "    random_seed: int = 42  # Random Seed\n",
        "    pretrained_model: str = 'beomi/kcbert-base'  # Transformers PLM name\n",
        "    pretrained_tokenizer: str = ''  # Optional, Transformers Tokenizer Name. Overrides `pretrained_model`\n",
        "    auto_batch_size: str = 'power'  # Let PyTorch Lightening find the best batch size \n",
        "    batch_size: int = 0  # Optional, Train/Eval Batch Size. Overrides `auto_batch_size` \n",
        "    lr: float = 5e-6  # Starting Learning Rate\n",
        "    epochs: int = 1  # Max Epochs\n",
        "    max_length: int = 150  # Max Length input size\n",
        "    report_cycle: int = 100  # Report (Train Metrics) Cycle\n",
        "    train_data_path: str = \"/content/drive/My Drive/Colab Notebooks/Competition/ratings_train.csv\"  # Train Dataset file\n",
        "    val_data_path: str = \"/content/drive/My Drive/Colab Notebooks/Competition/ratings_test.csv\"  # Validation Dataset file \n",
        "    cpu_workers: int = os.cpu_count()  # Multi cpu workers\n",
        "    test_mode: bool = False  # Test Mode enables `fast_dev_run`\n",
        "    optimizer: str = 'AdamW'  # AdamW vs AdamP\n",
        "    lr_scheduler: str = 'exp'  # ExponentialLR vs CosineAnnealingWarmRestarts\n",
        "    fp16: bool = False  # Enable train on FP16\n",
        "    tpu_cores: int = 0  # Enable TPU with 1 core or 8 cores\n",
        "\n",
        "args = Arg()"
      ],
      "execution_count": 19,
      "outputs": []
    },
    {
      "cell_type": "code",
      "metadata": {
        "colab": {
          "base_uri": "https://localhost:8080/"
        },
        "id": "4znM-UxdZdL4",
        "outputId": "f6a2ab1f-03bb-4018-88fb-d1cd2efa1fd3"
      },
      "source": [
        "!nvidia-smi"
      ],
      "execution_count": 20,
      "outputs": [
        {
          "output_type": "stream",
          "text": [
            "Thu Jul 22 12:55:20 2021       \n",
            "+-----------------------------------------------------------------------------+\n",
            "| NVIDIA-SMI 470.42.01    Driver Version: 460.32.03    CUDA Version: 11.2     |\n",
            "|-------------------------------+----------------------+----------------------+\n",
            "| GPU  Name        Persistence-M| Bus-Id        Disp.A | Volatile Uncorr. ECC |\n",
            "| Fan  Temp  Perf  Pwr:Usage/Cap|         Memory-Usage | GPU-Util  Compute M. |\n",
            "|                               |                      |               MIG M. |\n",
            "|===============================+======================+======================|\n",
            "|   0  Tesla T4            Off  | 00000000:00:04.0 Off |                    0 |\n",
            "| N/A   47C    P8    10W /  70W |      0MiB / 15109MiB |      0%      Default |\n",
            "|                               |                      |                  N/A |\n",
            "+-------------------------------+----------------------+----------------------+\n",
            "                                                                               \n",
            "+-----------------------------------------------------------------------------+\n",
            "| Processes:                                                                  |\n",
            "|  GPU   GI   CI        PID   Type   Process name                  GPU Memory |\n",
            "|        ID   ID                                                   Usage      |\n",
            "|=============================================================================|\n",
            "|  No running processes found                                                 |\n",
            "+-----------------------------------------------------------------------------+\n"
          ],
          "name": "stdout"
        }
      ]
    },
    {
      "cell_type": "code",
      "metadata": {
        "id": "Kzd-on0LZf4o"
      },
      "source": [
        "# args.tpu_cores = 8  # Enables TPU\n",
        "args.fp16 = True  # Enables GPU FP16\n",
        "args.batch_size = 32  # Force setup batch_size"
      ],
      "execution_count": 21,
      "outputs": []
    },
    {
      "cell_type": "code",
      "metadata": {
        "id": "vhg94LDBahs3"
      },
      "source": [
        "class Model(LightningModule):\n",
        "    def __init__(self, options):\n",
        "        super().__init__()\n",
        "        self.args = options\n",
        "        self.bert = BertForSequenceClassification.from_pretrained(self.args.pretrained_model, num_labels = 44)\n",
        "        self.tokenizer = BertTokenizer.from_pretrained(\n",
        "            self.args.pretrained_tokenizer\n",
        "            if self.args.pretrained_tokenizer\n",
        "            else self.args.pretrained_model\n",
        "        )\n",
        "\n",
        "    def forward(self, **kwargs):\n",
        "        return self.bert(**kwargs)\n",
        "\n",
        "    def training_step(self, batch, batch_idx):\n",
        "        data, labels = batch\n",
        "        output = self(input_ids=data, labels=labels)\n",
        "\n",
        "        # Transformers 4.0.0+\n",
        "        loss = output.loss\n",
        "        logits = output.logits\n",
        "        \n",
        "        preds = logits.argmax(dim=-1)\n",
        "\n",
        "        y_true = labels.cpu().numpy()\n",
        "        y_pred = preds.cpu().numpy()\n",
        "\n",
        "        # Acc, Precision, Recall, F1\n",
        "        #metrics = [\n",
        "        #    metric(y_true=y_true, y_pred=y_pred)\n",
        "        #    for metric in\n",
        "        #    (accuracy_score, precision_score(average = 'weighted'), recall_score(average = 'weighted'), f1_score(average = 'weighted'))\n",
        "        #]\n",
        "        tensorboard_logs = {\n",
        "            'train_loss': loss.cpu().detach().numpy().tolist(),\n",
        "            'train_acc': accuracy_score(y_true=y_true, y_pred=y_pred),\n",
        "            'train_precision': precision_score(y_true=y_true, y_pred=y_pred, average = 'weighted'),\n",
        "            'train_recall': recall_score(y_true=y_true, y_pred=y_pred, average = 'weighted'),\n",
        "            'train_f1': f1_score(y_true=y_true, y_pred=y_pred, average = 'weighted'),\n",
        "        }\n",
        "        if (batch_idx % self.args.report_cycle) == 0:\n",
        "            print()\n",
        "            pprint(tensorboard_logs)\n",
        "        return {'loss': loss, 'log': tensorboard_logs}\n",
        "\n",
        "    def validation_step(self, batch, batch_idx):\n",
        "        data, labels = batch\n",
        "        output = self(input_ids=data, labels=labels)\n",
        "\n",
        "        # Transformers 4.0.0+\n",
        "        loss = output.loss\n",
        "        logits = output.logits\n",
        "\n",
        "        preds = logits.argmax(dim=-1)\n",
        "\n",
        "        y_true = list(labels.cpu().numpy())\n",
        "        y_pred = list(preds.cpu().numpy())\n",
        "\n",
        "        return {\n",
        "            'loss': loss,\n",
        "            'y_true': y_true,\n",
        "            'y_pred': y_pred,\n",
        "        }\n",
        "    def test_step(self, batch, batch_idx):\n",
        "        data, labels = batch\n",
        "        output = self(input_ids=data, labels=labels)\n",
        "\n",
        "        # Transformers 4.0.0+\n",
        "        loss = output.loss\n",
        "        logits = output.logits\n",
        "\n",
        "        preds = logits.argmax(dim=-1)\n",
        "\n",
        "        y_true = list(labels.cpu().numpy())\n",
        "        y_pred = list(preds.cpu().numpy())\n",
        "        y_pred_df = pd.DataFrame(y_pred)\n",
        "        y_pred_df.to_csv(\"/content/drive/My Drive/Colab Notebooks/Prediction_result.csv\")\n",
        "\n",
        "        return y_pred\n",
        "    \n",
        "\n",
        "    def validation_epoch_end(self, outputs):\n",
        "        loss = torch.tensor(0, dtype=torch.float)\n",
        "        for i in outputs:\n",
        "            loss += i['loss'].cpu().detach()\n",
        "        _loss = loss / len(outputs)\n",
        "\n",
        "        loss = float(_loss)\n",
        "        y_true = []\n",
        "        y_pred = []\n",
        "\n",
        "        for i in outputs:\n",
        "            y_true += i['y_true']\n",
        "            y_pred += i['y_pred']\n",
        "\n",
        "        # Acc, Precision, Recall, F1\n",
        "        #metrics = [\n",
        "        #    metric(y_true=y_true, y_pred=y_pred)\n",
        "        #    for metric in\n",
        "        #    (accuracy_score, precision_score, recall_score, f1_score)\n",
        "        #]\n",
        "\n",
        "        tensorboard_logs = {\n",
        "            'val_loss': loss,\n",
        "            'val_acc': accuracy_score(y_true=y_true, y_pred=y_pred),\n",
        "            'val_precision': precision_score(y_true=y_true, y_pred=y_pred, average = 'weighted'),\n",
        "            'val_recall': recall_score(y_true=y_true, y_pred=y_pred, average = 'weighted'),\n",
        "            'val_f1': f1_score(y_true=y_true, y_pred=y_pred, average = 'weighted'),\n",
        "        }\n",
        "\n",
        "        print()\n",
        "        pprint(tensorboard_logs)\n",
        "        return {'loss': _loss, 'log': tensorboard_logs}\n",
        "\n",
        "    def configure_optimizers(self):\n",
        "        if self.args.optimizer == 'AdamW':\n",
        "            optimizer = AdamW(self.parameters(), lr=self.args.lr)\n",
        "        elif self.args.optimizer == 'AdamP':\n",
        "            from adamp import AdamP\n",
        "            optimizer = AdamP(self.parameters(), lr=self.args.lr)\n",
        "        else:\n",
        "            raise NotImplementedError('Only AdamW and AdamP is Supported!')\n",
        "        if self.args.lr_scheduler == 'cos':\n",
        "            scheduler = CosineAnnealingWarmRestarts(optimizer, T_0=1, T_mult=2)\n",
        "        elif self.args.lr_scheduler == 'exp':\n",
        "            scheduler = ExponentialLR(optimizer, gamma=0.5)\n",
        "        else:\n",
        "            raise NotImplementedError('Only cos and exp lr scheduler is Supported!')\n",
        "        return {\n",
        "            'optimizer': optimizer,\n",
        "            'scheduler': scheduler,\n",
        "        }\n",
        "\n",
        "    def read_data(self, path):\n",
        "        if path.endswith('xlsx'):\n",
        "            return pd.read_excel(path)\n",
        "        elif path.endswith('csv'):\n",
        "            return pd.read_csv(path)\n",
        "        elif path.endswith('tsv') or path.endswith('txt'):\n",
        "            return pd.read_csv(path, sep='\\t')\n",
        "        else:\n",
        "            raise NotImplementedError('Only Excel(xlsx)/Csv/Tsv(txt) are Supported')\n",
        "\n",
        "    def preprocess_dataframe(self, df):\n",
        "        emojis = ''.join(emoji.UNICODE_EMOJI.keys())\n",
        "        pattern = re.compile(f'[^ .,?!/@$%~％·∼()\\x00-\\x7Fㄱ-힣{emojis}]+')\n",
        "        url_pattern = re.compile(\n",
        "            r'https?:\\/\\/(www\\.)?[-a-zA-Z0-9@:%._\\+~#=]{1,256}\\.[a-zA-Z0-9()]{1,6}\\b([-a-zA-Z0-9()@:%_\\+.~#?&//=]*)')\n",
        "\n",
        "        def clean(x):\n",
        "            x = pattern.sub(' ', x)\n",
        "            x = url_pattern.sub('', x)\n",
        "            x = x.strip()\n",
        "            x = repeat_normalize(x, num_repeats=2)\n",
        "            return x\n",
        "\n",
        "        df['발화'] = df['발화'].map(lambda x: self.tokenizer.encode(\n",
        "            clean(str(x)),\n",
        "            padding='max_length',\n",
        "            max_length=self.args.max_length,\n",
        "            truncation=True,\n",
        "        ))\n",
        "        return df\n",
        "\n",
        "    def train_dataloader(self):\n",
        "        df = self.read_data(self.args.train_data_path)\n",
        "        df = self.preprocess_dataframe(df)\n",
        "\n",
        "        dataset = TensorDataset(\n",
        "            torch.tensor(df['발화'].to_list(), dtype=torch.long),\n",
        "            torch.tensor(df['최종분류(우선순위 가장 높은것 선택)'].to_list(), dtype=torch.long),\n",
        "        )\n",
        "        return DataLoader(\n",
        "            dataset,\n",
        "            batch_size=self.args.batch_size or self.batch_size,\n",
        "            shuffle=True,\n",
        "            num_workers=self.args.cpu_workers,\n",
        "        )\n",
        "\n",
        "    \n",
        "    def val_dataloader(self):\n",
        "        df = self.read_data(self.args.val_data_path)\n",
        "        df = self.preprocess_dataframe(df)\n",
        "\n",
        "        dataset = TensorDataset(\n",
        "            torch.tensor(df['발화'].to_list(), dtype=torch.long),\n",
        "            torch.tensor(df['최종분류(우선순위 가장 높은것 선택)'].to_list(), dtype=torch.long),\n",
        "        )\n",
        "        return DataLoader(\n",
        "            dataset,\n",
        "            batch_size=self.args.batch_size or self.batch_size,\n",
        "            shuffle=False,\n",
        "            num_workers=self.args.cpu_workers,\n",
        "        )\n",
        "\n",
        "    def test_dataloader(self):\n",
        "        df = self.read_data(self.args.val_data_path)\n",
        "        df = self.preprocess_dataframe(df)\n",
        "\n",
        "        dataset = TensorDataset(\n",
        "            torch.tensor(df['발화'].to_list(), dtype=torch.long),\n",
        "            torch.tensor(df['최종분류(우선순위 가장 높은것 선택)'].to_list(), dtype=torch.long),\n",
        "        )\n",
        "        return DataLoader(\n",
        "            dataset,\n",
        "            batch_size=self.args.batch_size or self.batch_size,\n",
        "            shuffle=False,\n",
        "            num_workers=self.args.cpu_workers,\n",
        "        )"
      ],
      "execution_count": 25,
      "outputs": []
    },
    {
      "cell_type": "code",
      "metadata": {
        "id": "ErNaTFf4airl"
      },
      "source": [
        "def main():\n",
        "    print(\"Using PyTorch Ver\", torch.__version__)\n",
        "    print(\"Fix Seed:\", args.random_seed)\n",
        "    seed_everything(args.random_seed)\n",
        "    model = Model(args)\n",
        "\n",
        "    print(\":: Start Training ::\")\n",
        "    trainer = Trainer(\n",
        "        max_epochs=args.epochs,\n",
        "        fast_dev_run=args.test_mode,\n",
        "        num_sanity_val_steps=None if args.test_mode else 0,\n",
        "        auto_scale_batch_size=args.auto_batch_size if args.auto_batch_size and not args.batch_size else False,\n",
        "        # For GPU Setup\n",
        "        deterministic=torch.cuda.is_available(),\n",
        "        gpus=-1 if torch.cuda.is_available() else None,\n",
        "        precision=16 if args.fp16 else 32,\n",
        "        # For TPU Setup\n",
        "        # tpu_cores=args.tpu_cores if args.tpu_cores else None,\n",
        "    )\n",
        "    result = []\n",
        "    trainer.fit(model)\n",
        "    trainer.test(model)"
      ],
      "execution_count": 26,
      "outputs": []
    },
    {
      "cell_type": "code",
      "metadata": {
        "colab": {
          "base_uri": "https://localhost:8080/",
          "height": 886,
          "referenced_widgets": [
            "eadc12be5366459195cebc0674b53b17",
            "16667b7bdc804562b19c6dda663fecdd",
            "a383492594e641b194e69f1197afb132",
            "c5711474944c4de2ba1120e677c2221e",
            "fe90925028fe428ca71e3b0c7d78fc23",
            "f187a9317a004cb39f73e10610ba7693",
            "1c51ff0a53a846979faddd5c21c088ca",
            "45feceb872b044e2bfc6b1dcc311426a",
            "4f07aa9679c744ffa74f7f0bbdf329dd",
            "4e6e9a805e9b411089f8a760bc18e70b",
            "953e849c824d46b5ae3f56a01f1b38de",
            "67439ac469a94151873f7b82f64df0ae",
            "b5dff7bd0aa3438b8c2256375b89b6c3",
            "d220a7e5c95d477781eddf12788ce25f",
            "3be73d3cf25a4a06a22f0c1d7b1e971e",
            "9b6f0b4c3c4c429fa8b075163d4d5304",
            "2954d31c373b4b2e89099c759ff66d56",
            "77bcc9c8286d4a98922cf0092cf1742e",
            "6e143e2cb50042e9a8a386e9aa5fcdca",
            "cab0bba0e890419692d6dd2119be4c1b",
            "55744c6016684aa4897bd289c7649e59",
            "810deb8f36d7481b87a3258ecaf57db0",
            "6154f409c02f4b3d84ec16a57f15cd8b",
            "c74c41e9864b4fb5aef258adce8cd6dd"
          ]
        },
        "id": "gaj1zp3XejTM",
        "outputId": "eff9a829-7f89-4087-ba23-064c7d00bdf4"
      },
      "source": [
        "main()"
      ],
      "execution_count": 27,
      "outputs": [
        {
          "output_type": "stream",
          "text": [
            "Global seed set to 42\n"
          ],
          "name": "stderr"
        },
        {
          "output_type": "stream",
          "text": [
            "Using PyTorch Ver 1.9.0+cu102\n",
            "Fix Seed: 42\n"
          ],
          "name": "stdout"
        },
        {
          "output_type": "stream",
          "text": [
            "Some weights of the model checkpoint at beomi/kcbert-base were not used when initializing BertForSequenceClassification: ['cls.predictions.transform.dense.weight', 'cls.predictions.transform.LayerNorm.bias', 'cls.seq_relationship.bias', 'cls.predictions.decoder.bias', 'cls.predictions.transform.dense.bias', 'cls.predictions.decoder.weight', 'cls.predictions.transform.LayerNorm.weight', 'cls.predictions.bias', 'cls.seq_relationship.weight']\n",
            "- This IS expected if you are initializing BertForSequenceClassification from the checkpoint of a model trained on another task or with another architecture (e.g. initializing a BertForSequenceClassification model from a BertForPreTraining model).\n",
            "- This IS NOT expected if you are initializing BertForSequenceClassification from the checkpoint of a model that you expect to be exactly identical (initializing a BertForSequenceClassification model from a BertForSequenceClassification model).\n",
            "Some weights of BertForSequenceClassification were not initialized from the model checkpoint at beomi/kcbert-base and are newly initialized: ['classifier.bias', 'classifier.weight']\n",
            "You should probably TRAIN this model on a down-stream task to be able to use it for predictions and inference.\n",
            "GPU available: True, used: True\n",
            "TPU available: False, using: 0 TPU cores\n",
            "Using native 16bit precision.\n",
            "LOCAL_RANK: 0 - CUDA_VISIBLE_DEVICES: [0]\n"
          ],
          "name": "stderr"
        },
        {
          "output_type": "stream",
          "text": [
            ":: Start Training ::\n"
          ],
          "name": "stdout"
        },
        {
          "output_type": "stream",
          "text": [
            "\n",
            "  | Name | Type                          | Params\n",
            "-------------------------------------------------------\n",
            "0 | bert | BertForSequenceClassification | 108 M \n",
            "-------------------------------------------------------\n",
            "108 M     Trainable params\n",
            "0         Non-trainable params\n",
            "108 M     Total params\n",
            "435.809   Total estimated model params size (MB)\n"
          ],
          "name": "stderr"
        },
        {
          "output_type": "display_data",
          "data": {
            "application/vnd.jupyter.widget-view+json": {
              "model_id": "eadc12be5366459195cebc0674b53b17",
              "version_minor": 0,
              "version_major": 2
            },
            "text/plain": [
              "HBox(children=(FloatProgress(value=1.0, bar_style='info', description='Training', layout=Layout(flex='2'), max…"
            ]
          },
          "metadata": {
            "tags": []
          }
        },
        {
          "output_type": "stream",
          "text": [
            "/usr/local/lib/python3.7/dist-packages/sklearn/metrics/_classification.py:1272: UndefinedMetricWarning: Precision is ill-defined and being set to 0.0 in labels with no predicted samples. Use `zero_division` parameter to control this behavior.\n",
            "  _warn_prf(average, modifier, msg_start, len(result))\n",
            "/usr/local/lib/python3.7/dist-packages/sklearn/metrics/_classification.py:1272: UndefinedMetricWarning: Recall is ill-defined and being set to 0.0 in labels with no true samples. Use `zero_division` parameter to control this behavior.\n",
            "  _warn_prf(average, modifier, msg_start, len(result))\n"
          ],
          "name": "stderr"
        },
        {
          "output_type": "stream",
          "text": [
            "\n",
            "{'train_acc': 0.0625,\n",
            " 'train_f1': 0.07291666666666666,\n",
            " 'train_loss': 3.80487060546875,\n",
            " 'train_precision': 0.08750000000000001,\n",
            " 'train_recall': 0.0625}\n"
          ],
          "name": "stdout"
        },
        {
          "output_type": "display_data",
          "data": {
            "application/vnd.jupyter.widget-view+json": {
              "model_id": "4f07aa9679c744ffa74f7f0bbdf329dd",
              "version_minor": 0,
              "version_major": 2
            },
            "text/plain": [
              "HBox(children=(FloatProgress(value=1.0, bar_style='info', description='Validating', layout=Layout(flex='2'), m…"
            ]
          },
          "metadata": {
            "tags": []
          }
        },
        {
          "output_type": "stream",
          "text": [
            "\n",
            "{'val_acc': 0.315,\n",
            " 'val_f1': 0.17326982614908315,\n",
            " 'val_loss': 2.704437255859375,\n",
            " 'val_precision': 0.12137200223089793,\n",
            " 'val_recall': 0.315}\n",
            "\n"
          ],
          "name": "stdout"
        },
        {
          "output_type": "stream",
          "text": [
            "LOCAL_RANK: 0 - CUDA_VISIBLE_DEVICES: [0]\n"
          ],
          "name": "stderr"
        },
        {
          "output_type": "display_data",
          "data": {
            "application/vnd.jupyter.widget-view+json": {
              "model_id": "2954d31c373b4b2e89099c759ff66d56",
              "version_minor": 0,
              "version_major": 2
            },
            "text/plain": [
              "HBox(children=(FloatProgress(value=1.0, bar_style='info', description='Testing', layout=Layout(flex='2'), max=…"
            ]
          },
          "metadata": {
            "tags": []
          }
        },
        {
          "output_type": "stream",
          "text": [
            "\n",
            "--------------------------------------------------------------------------------\n",
            "DATALOADER:0 TEST RESULTS\n",
            "{}\n",
            "--------------------------------------------------------------------------------\n"
          ],
          "name": "stdout"
        }
      ]
    },
    {
      "cell_type": "code",
      "metadata": {
        "id": "hPcP-qekujIr"
      },
      "source": [
        "torch.save(main, '/content/drive/My Drive/Colab Notebooks/Competition/model1.pt')"
      ],
      "execution_count": null,
      "outputs": []
    },
    {
      "cell_type": "code",
      "metadata": {
        "id": "cnO3wDU85-pO"
      },
      "source": [
        ""
      ],
      "execution_count": null,
      "outputs": []
    }
  ]
}
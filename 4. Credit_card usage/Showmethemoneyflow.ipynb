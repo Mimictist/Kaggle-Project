{
 "cells": [
  {
   "cell_type": "code",
   "execution_count": 1,
   "metadata": {},
   "outputs": [],
   "source": [
    "import numpy as np\n",
    "import pandas as pd\n",
    "import seaborn as sns\n",
    "import matplotlib.pyplot as plt\n",
    "import warnings\n",
    "warnings.filterwarnings(action='ignore')\n",
    "from datetime import datetime, timedelta"
   ]
  },
  {
   "cell_type": "code",
   "execution_count": 2,
   "metadata": {},
   "outputs": [
    {
     "data": {
      "text/html": [
       "<div>\n",
       "<style scoped>\n",
       "    .dataframe tbody tr th:only-of-type {\n",
       "        vertical-align: middle;\n",
       "    }\n",
       "\n",
       "    .dataframe tbody tr th {\n",
       "        vertical-align: top;\n",
       "    }\n",
       "\n",
       "    .dataframe thead th {\n",
       "        text-align: right;\n",
       "    }\n",
       "</style>\n",
       "<table border=\"1\" class=\"dataframe\">\n",
       "  <thead>\n",
       "    <tr style=\"text-align: right;\">\n",
       "      <th></th>\n",
       "      <th>store_id</th>\n",
       "      <th>date</th>\n",
       "      <th>time</th>\n",
       "      <th>card_id</th>\n",
       "      <th>amount</th>\n",
       "      <th>installments</th>\n",
       "      <th>days_of_week</th>\n",
       "      <th>holyday</th>\n",
       "    </tr>\n",
       "  </thead>\n",
       "  <tbody>\n",
       "    <tr>\n",
       "      <th>0</th>\n",
       "      <td>0</td>\n",
       "      <td>2016-12-14</td>\n",
       "      <td>18:05:31</td>\n",
       "      <td>d297bba73f</td>\n",
       "      <td>5</td>\n",
       "      <td>NaN</td>\n",
       "      <td>2</td>\n",
       "      <td>0</td>\n",
       "    </tr>\n",
       "    <tr>\n",
       "      <th>1</th>\n",
       "      <td>0</td>\n",
       "      <td>2016-12-14</td>\n",
       "      <td>18:05:54</td>\n",
       "      <td>d297bba73f</td>\n",
       "      <td>-5</td>\n",
       "      <td>NaN</td>\n",
       "      <td>2</td>\n",
       "      <td>0</td>\n",
       "    </tr>\n",
       "    <tr>\n",
       "      <th>2</th>\n",
       "      <td>0</td>\n",
       "      <td>2016-12-19</td>\n",
       "      <td>12:42:31</td>\n",
       "      <td>0880849c05</td>\n",
       "      <td>144</td>\n",
       "      <td>NaN</td>\n",
       "      <td>0</td>\n",
       "      <td>0</td>\n",
       "    </tr>\n",
       "    <tr>\n",
       "      <th>3</th>\n",
       "      <td>0</td>\n",
       "      <td>2016-12-19</td>\n",
       "      <td>12:48:08</td>\n",
       "      <td>8b4f9e0e95</td>\n",
       "      <td>66</td>\n",
       "      <td>NaN</td>\n",
       "      <td>0</td>\n",
       "      <td>0</td>\n",
       "    </tr>\n",
       "    <tr>\n",
       "      <th>4</th>\n",
       "      <td>0</td>\n",
       "      <td>2016-12-19</td>\n",
       "      <td>13:31:08</td>\n",
       "      <td>7ad237eed0</td>\n",
       "      <td>24</td>\n",
       "      <td>NaN</td>\n",
       "      <td>0</td>\n",
       "      <td>0</td>\n",
       "    </tr>\n",
       "    <tr>\n",
       "      <th>...</th>\n",
       "      <td>...</td>\n",
       "      <td>...</td>\n",
       "      <td>...</td>\n",
       "      <td>...</td>\n",
       "      <td>...</td>\n",
       "      <td>...</td>\n",
       "      <td>...</td>\n",
       "      <td>...</td>\n",
       "    </tr>\n",
       "    <tr>\n",
       "      <th>3362791</th>\n",
       "      <td>1799</td>\n",
       "      <td>2018-07-19</td>\n",
       "      <td>17:58:31</td>\n",
       "      <td>e254bf70d9</td>\n",
       "      <td>600</td>\n",
       "      <td>NaN</td>\n",
       "      <td>3</td>\n",
       "      <td>0</td>\n",
       "    </tr>\n",
       "    <tr>\n",
       "      <th>3362792</th>\n",
       "      <td>1799</td>\n",
       "      <td>2018-07-19</td>\n",
       "      <td>18:54:34</td>\n",
       "      <td>8f41c89891</td>\n",
       "      <td>275</td>\n",
       "      <td>NaN</td>\n",
       "      <td>3</td>\n",
       "      <td>0</td>\n",
       "    </tr>\n",
       "    <tr>\n",
       "      <th>3362793</th>\n",
       "      <td>1799</td>\n",
       "      <td>2018-07-22</td>\n",
       "      <td>14:46:57</td>\n",
       "      <td>aeb64fe1fb</td>\n",
       "      <td>350</td>\n",
       "      <td>NaN</td>\n",
       "      <td>6</td>\n",
       "      <td>0</td>\n",
       "    </tr>\n",
       "    <tr>\n",
       "      <th>3362794</th>\n",
       "      <td>1799</td>\n",
       "      <td>2018-07-25</td>\n",
       "      <td>18:09:13</td>\n",
       "      <td>57932602d6</td>\n",
       "      <td>300</td>\n",
       "      <td>NaN</td>\n",
       "      <td>2</td>\n",
       "      <td>0</td>\n",
       "    </tr>\n",
       "    <tr>\n",
       "      <th>3362795</th>\n",
       "      <td>1799</td>\n",
       "      <td>2018-07-30</td>\n",
       "      <td>10:58:53</td>\n",
       "      <td>42d354807a</td>\n",
       "      <td>325</td>\n",
       "      <td>NaN</td>\n",
       "      <td>0</td>\n",
       "      <td>0</td>\n",
       "    </tr>\n",
       "  </tbody>\n",
       "</table>\n",
       "<p>3362796 rows × 8 columns</p>\n",
       "</div>"
      ],
      "text/plain": [
       "         store_id        date      time     card_id  amount  installments  \\\n",
       "0               0  2016-12-14  18:05:31  d297bba73f       5           NaN   \n",
       "1               0  2016-12-14  18:05:54  d297bba73f      -5           NaN   \n",
       "2               0  2016-12-19  12:42:31  0880849c05     144           NaN   \n",
       "3               0  2016-12-19  12:48:08  8b4f9e0e95      66           NaN   \n",
       "4               0  2016-12-19  13:31:08  7ad237eed0      24           NaN   \n",
       "...           ...         ...       ...         ...     ...           ...   \n",
       "3362791      1799  2018-07-19  17:58:31  e254bf70d9     600           NaN   \n",
       "3362792      1799  2018-07-19  18:54:34  8f41c89891     275           NaN   \n",
       "3362793      1799  2018-07-22  14:46:57  aeb64fe1fb     350           NaN   \n",
       "3362794      1799  2018-07-25  18:09:13  57932602d6     300           NaN   \n",
       "3362795      1799  2018-07-30  10:58:53  42d354807a     325           NaN   \n",
       "\n",
       "         days_of_week  holyday  \n",
       "0                   2        0  \n",
       "1                   2        0  \n",
       "2                   0        0  \n",
       "3                   0        0  \n",
       "4                   0        0  \n",
       "...               ...      ...  \n",
       "3362791             3        0  \n",
       "3362792             3        0  \n",
       "3362793             6        0  \n",
       "3362794             2        0  \n",
       "3362795             0        0  \n",
       "\n",
       "[3362796 rows x 8 columns]"
      ]
     },
     "execution_count": 2,
     "metadata": {},
     "output_type": "execute_result"
    }
   ],
   "source": [
    "train_raw = pd.read_csv(\"train.csv\")\n",
    "train_raw #3,362,796 x 8 columns"
   ]
  },
  {
   "cell_type": "code",
   "execution_count": 3,
   "metadata": {},
   "outputs": [
    {
     "data": {
      "text/plain": [
       "store_id              0\n",
       "date                  0\n",
       "time                  0\n",
       "card_id               0\n",
       "amount                0\n",
       "installments    3345936\n",
       "days_of_week          0\n",
       "holyday               0\n",
       "dtype: int64"
      ]
     },
     "execution_count": 3,
     "metadata": {},
     "output_type": "execute_result"
    }
   ],
   "source": [
    "train_raw.isnull().sum() #installments에만 결측치 존재"
   ]
  },
  {
   "cell_type": "code",
   "execution_count": 4,
   "metadata": {},
   "outputs": [],
   "source": [
    "train = train_raw.fillna(0)"
   ]
  },
  {
   "cell_type": "code",
   "execution_count": 5,
   "metadata": {},
   "outputs": [
    {
     "data": {
      "text/plain": [
       "days_of_week   -0.004116\n",
       "holyday        -0.003965\n",
       "store_id        0.017302\n",
       "installments    0.189700\n",
       "amount          1.000000\n",
       "Name: amount, dtype: float64"
      ]
     },
     "execution_count": 5,
     "metadata": {},
     "output_type": "execute_result"
    }
   ],
   "source": [
    "train.corr()['amount'].sort_values()"
   ]
  },
  {
   "cell_type": "code",
   "execution_count": 6,
   "metadata": {},
   "outputs": [
    {
     "data": {
      "text/plain": [
       "(922522,)"
      ]
     },
     "execution_count": 6,
     "metadata": {},
     "output_type": "execute_result"
    }
   ],
   "source": [
    "card_id =train_raw['card_id'].unique() #고유의 카드아이디 갯수 922,522 \n",
    "card_id.shape"
   ]
  },
  {
   "cell_type": "code",
   "execution_count": 7,
   "metadata": {},
   "outputs": [],
   "source": [
    "train['date_time']= train_raw.loc[:,'date']+ ' ' + train_raw.loc[:,'time']\n",
    "train =train.drop(['date', 'time'], axis=1)"
   ]
  },
  {
   "cell_type": "code",
   "execution_count": 8,
   "metadata": {},
   "outputs": [],
   "source": [
    "check_holyday = train_raw[train_raw.holyday ==1]\n",
    "holiday_list =check_holyday['date'].unique()"
   ]
  },
  {
   "cell_type": "code",
   "execution_count": 9,
   "metadata": {},
   "outputs": [],
   "source": [
    "train['date_time']=pd.to_datetime(train['date_time'])\n",
    "train =train.set_index('date_time')"
   ]
  },
  {
   "cell_type": "code",
   "execution_count": 10,
   "metadata": {},
   "outputs": [
    {
     "data": {
      "text/plain": [
       "store_id          int64\n",
       "card_id          object\n",
       "amount            int64\n",
       "installments    float64\n",
       "days_of_week      int64\n",
       "holyday           int64\n",
       "dtype: object"
      ]
     },
     "execution_count": 10,
     "metadata": {},
     "output_type": "execute_result"
    }
   ],
   "source": [
    "train.dtypes"
   ]
  },
  {
   "cell_type": "code",
   "execution_count": 11,
   "metadata": {},
   "outputs": [
    {
     "data": {
      "text/plain": [
       "Text(0, 0.5, 'Sales per day')"
      ]
     },
     "execution_count": 11,
     "metadata": {},
     "output_type": "execute_result"
    },
    {
     "data": {
      "image/png": "[encoded data removed]",
      "text/plain": [
       "<Figure size 432x288 with 1 Axes>"
      ]
     },
     "metadata": {
      "needs_background": "light"
     },
     "output_type": "display_data"
    }
   ],
   "source": [
    "everyday = train['amount'].resample('D').sum()\n",
    "plt.ylabel(\"Sales per day\")"
   ]
  },
  {
   "cell_type": "code",
   "execution_count": 13,
   "metadata": {},
   "outputs": [
    {
     "data": {
      "text/plain": [
       "Text(0, 0.5, 'Sales per day(logscaled)')"
      ]
     },
     "execution_count": 13,
     "metadata": {},
     "output_type": "execute_result"
    },
    {
     "data": {
      "image/png": "[encoded data removed]",
      "text/plain": [
       "<Figure size 432x288 with 1 Axes>"
      ]
     },
     "metadata": {
      "needs_background": "light"
     },
     "output_type": "display_data"
    }
   ],
   "source": [
    "everyday= np.log(everyday)\n",
    "everyday.plot()\n",
    "plt.ylabel(\"Sales per day(logscaled)\")"
   ]
  },
  {
   "cell_type": "code",
   "execution_count": null,
   "metadata": {},
   "outputs": [],
   "source": [
    "weekday=train_batch.groupby(train_batch.index.dayofweek).mean()\n",
    "weekday.index= ['Mon', 'Tue','Wed','Thu', 'Fri', 'Sat', 'Sun']\n",
    "weekday.plot()"
   ]
  }
 ],
 "metadata": {
  "kernelspec": {
   "display_name": "Python 3",
   "language": "python",
   "name": "python3"
  },
  "language_info": {
   "codemirror_mode": {
    "name": "ipython",
    "version": 3
   },
   "file_extension": ".py",
   "mimetype": "text/x-python",
   "name": "python",
   "nbconvert_exporter": "python",
   "pygments_lexer": "ipython3",
   "version": "3.8.3"
  }
 },
 "nbformat": 4,
 "nbformat_minor": 4
}
